{
  "nbformat": 4,
  "nbformat_minor": 0,
  "metadata": {
    "colab": {
      "provenance": [],
      "authorship_tag": "ABX9TyPZQpDLA0I9anpeEoHFqDeJ",
      "include_colab_link": true
    },
    "kernelspec": {
      "name": "python3",
      "display_name": "Python 3"
    },
    "language_info": {
      "name": "python"
    }
  },
  "cells": [
    {
      "cell_type": "markdown",
      "metadata": {
        "id": "view-in-github",
        "colab_type": "text"
      },
      "source": [
        "<a href=\"https://colab.research.google.com/github/Muthon1/DataScience/blob/main/Bank_Account_Py.ipynb\" target=\"_parent\"><img src=\"https://colab.research.google.com/assets/colab-badge.svg\" alt=\"Open In Colab\"/></a>"
      ]
    },
    {
      "cell_type": "code",
      "execution_count": 1,
      "metadata": {
        "colab": {
          "base_uri": "https://localhost:8080/"
        },
        "id": "a_QZ3KlEZEk4",
        "outputId": "005d917e-73d0-48e4-e253-5fd2b372df2e"
      },
      "outputs": [
        {
          "output_type": "stream",
          "name": "stdout",
          "text": [
            "Enter account number: 01145687898\n",
            "Enter account balance: 7000\n",
            "Enter account holder: Norah Awiti\n",
            "Enter an amount to deposit: 6700\n",
            "Deposited 6700.0. New balance is: 13700.0\n",
            "Enter an amount to withdraw: 450\n",
            "Withdrew 450.0. New balance is: 13250.0\n",
            "Current balance: 13250.0\n"
          ]
        }
      ],
      "source": [
        "class Account:\n",
        "    def __init__(self, account_number, account_balance, account_holder):\n",
        "        self.account_number = account_number\n",
        "        self.account_balance = account_balance\n",
        "        self.account_holder = account_holder\n",
        "\n",
        "    # The class should have the following methods\n",
        "    def deposit(self, amount: float):\n",
        "        if amount > 0:\n",
        "            self.account_balance += amount\n",
        "            print(f\"Deposited {amount}. New balance is: {self.account_balance}\")\n",
        "        else:\n",
        "            print(\"Deposit amount must be positive.\")\n",
        "\n",
        "    def withdraw(self, amount: float):\n",
        "        if amount > 0:\n",
        "            if self.account_balance >= amount:\n",
        "                self.account_balance -= amount\n",
        "                print(f\"Withdrew {amount}. New balance is: {self.account_balance}\")\n",
        "            else:\n",
        "                print(f\"Insufficient balance. Current balance: {self.account_balance}\")\n",
        "        else:\n",
        "            print(\"Withdrawal amount must be positive.\")\n",
        "\n",
        "    def check_balance(self):\n",
        "        return self.account_balance\n",
        "\n",
        "\n",
        "# Example usage with input\n",
        "account_number = input(\"Enter account number: \")\n",
        "account_balance = float(input(\"Enter account balance: \"))\n",
        "account_holder = input(\"Enter account holder: \")\n",
        "\n",
        "# Create an instance of the Account class, and assign it to a variable called \"my_account\"\n",
        "my_account = Account(account_number, account_balance, account_holder)\n",
        "\n",
        "# Deposit money\n",
        "deposit_amount = float(input('Enter an amount to deposit: '))\n",
        "my_account.deposit(deposit_amount)\n",
        "\n",
        "# Withdraw money\n",
        "withdraw_amount = float(input('Enter an amount to withdraw: '))\n",
        "my_account.withdraw(withdraw_amount)\n",
        "\n",
        "# Check the account balance\n",
        "print(f\"Current balance: {my_account.check_balance()}\")\n"
      ]
    }
  ]
}