{
  "nbformat": 4,
  "nbformat_minor": 0,
  "metadata": {
    "colab": {
      "provenance": [],
      "authorship_tag": "ABX9TyMxFgvAQyv4/2r/zfYSSnlp",
      "include_colab_link": true
    },
    "kernelspec": {
      "name": "python3",
      "display_name": "Python 3"
    },
    "language_info": {
      "name": "python"
    }
  },
  "cells": [
    {
      "cell_type": "markdown",
      "metadata": {
        "id": "view-in-github",
        "colab_type": "text"
      },
      "source": [
        "<a href=\"https://colab.research.google.com/github/Muthon1/DataScience/blob/main/Python_Numpy_Checkpoint.ipynb\" target=\"_parent\"><img src=\"https://colab.research.google.com/assets/colab-badge.svg\" alt=\"Open In Colab\"/></a>"
      ]
    },
    {
      "cell_type": "code",
      "execution_count": 1,
      "metadata": {
        "colab": {
          "base_uri": "https://localhost:8080/"
        },
        "id": "MQpENtWBsO6L",
        "outputId": "68e1d369-f33b-4971-dacd-1c28d5582352"
      },
      "outputs": [
        {
          "output_type": "stream",
          "name": "stdout",
          "text": [
            "Grades: [85 90 88 92 95 80 75 98 89 83]\n",
            "Mean grade: 87.5\n",
            "Median grade: 88.5\n",
            "Standard deviation of grades: 6.591661399070799\n",
            "Maximum grade: 98\n",
            "Minimum grade: 75\n",
            "Sorted grades: [75 80 83 85 88 89 90 92 95 98]\n",
            "Index of the highest grade: 7\n",
            "Number of students who scored above 90: 3\n",
            "Percentage of students who scored above 90: 30.0%\n",
            "Percentage of students who scored below 75: 0.0%\n",
            "High performers (grades > 90): [92 95 98]\n",
            "Passing grades (grades > 75): [85 90 88 92 95 80 98 89 83]\n"
          ]
        }
      ],
      "source": [
        "# grades_analysis.py\n",
        "import numpy as np\n",
        "\n",
        "# Create the \"grades\" array\n",
        "grades = np.array([85, 90, 88, 92, 95, 80, 75, 98, 89, 83])\n",
        "\n",
        "# Calculate the mean, median, and standard deviation of the grades\n",
        "mean_grade = np.mean(grades)\n",
        "median_grade = np.median(grades)\n",
        "std_dev_grade = np.std(grades)\n",
        "\n",
        "# Find the maximum and minimum of the grades\n",
        "max_grade = np.max(grades)\n",
        "min_grade = np.min(grades)\n",
        "\n",
        "# Sort the grades in ascending order\n",
        "sorted_grades = np.sort(grades)\n",
        "\n",
        "# Find the index of the highest grade\n",
        "index_of_max = np.argmax(grades)\n",
        "\n",
        "# Count the number of students who scored above 90\n",
        "num_above_90 = np.sum(grades > 90)\n",
        "\n",
        "# Calculate the percentage of students who scored above 90\n",
        "percentage_above_90 = np.mean(grades > 90) * 100\n",
        "\n",
        "# Calculate the percentage of students who scored below 75\n",
        "percentage_below_75 = np.mean(grades < 75) * 100\n",
        "\n",
        "# Extract all the grades above 90 into \"high_performers\"\n",
        "high_performers = grades[grades > 90]\n",
        "\n",
        "# Create an array called \"passing_grades\" for grades above 75\n",
        "passing_grades = grades[grades > 75]\n",
        "\n",
        "# Print the results\n",
        "print(f\"Grades: {grades}\")\n",
        "print(f\"Mean grade: {mean_grade}\")\n",
        "print(f\"Median grade: {median_grade}\")\n",
        "print(f\"Standard deviation of grades: {std_dev_grade}\")\n",
        "print(f\"Maximum grade: {max_grade}\")\n",
        "print(f\"Minimum grade: {min_grade}\")\n",
        "print(f\"Sorted grades: {sorted_grades}\")\n",
        "print(f\"Index of the highest grade: {index_of_max}\")\n",
        "print(f\"Number of students who scored above 90: {num_above_90}\")\n",
        "print(f\"Percentage of students who scored above 90: {percentage_above_90}%\")\n",
        "print(f\"Percentage of students who scored below 75: {percentage_below_75}%\")\n",
        "print(f\"High performers (grades > 90): {high_performers}\")\n",
        "print(f\"Passing grades (grades > 75): {passing_grades}\")\n"
      ]
    }
  ]
}