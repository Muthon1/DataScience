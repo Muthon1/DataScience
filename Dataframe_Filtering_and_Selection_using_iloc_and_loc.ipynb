{
  "nbformat": 4,
  "nbformat_minor": 0,
  "metadata": {
    "colab": {
      "provenance": [],
      "authorship_tag": "ABX9TyMFkhNkGTWfpx7eHKOiPe0S",
      "include_colab_link": true
    },
    "kernelspec": {
      "name": "python3",
      "display_name": "Python 3"
    },
    "language_info": {
      "name": "python"
    }
  },
  "cells": [
    {
      "cell_type": "markdown",
      "metadata": {
        "id": "view-in-github",
        "colab_type": "text"
      },
      "source": [
        "<a href=\"https://colab.research.google.com/github/Muthon1/DataScience/blob/main/Dataframe_Filtering_and_Selection_using_iloc_and_loc.ipynb\" target=\"_parent\"><img src=\"https://colab.research.google.com/assets/colab-badge.svg\" alt=\"Open In Colab\"/></a>"
      ]
    },
    {
      "cell_type": "code",
      "execution_count": 7,
      "metadata": {
        "colab": {
          "base_uri": "https://localhost:8080/"
        },
        "id": "t1qW23stu-ub",
        "outputId": "c2734cd5-39b1-41ba-8ae1-38d66f793831"
      },
      "outputs": [
        {
          "output_type": "stream",
          "name": "stdout",
          "text": [
            "    Name Department  Age  Gender  Salary  Experience\n",
            "0   John         IT   30    Male   50000           3\n",
            "1   Mary  Marketing   40  Female   60000           7\n",
            "2    Bob      Sales   25    Male   45000           2\n",
            "3  Sarah         IT   35  Female   55000           5\n",
            "4    Tom    Finance   45    Male   70000          10\n",
            "5   Lisa  Marketing   28  Female   55000           4\n",
            "   Name Department  Age  Gender  Salary  Experience\n",
            "0  John         IT   30    Male   50000           3\n",
            "1  Mary  Marketing   40  Female   60000           7\n",
            "2   Bob      Sales   25    Male   45000           2\n",
            "   Name Department  Age  Gender  Salary  Experience\n",
            "1  Mary  Marketing   40  Female   60000           7\n",
            "5  Lisa  Marketing   28  Female   55000           4\n",
            "   Age  Gender\n",
            "0   30    Male\n",
            "1   40  Female\n",
            "2   25    Male\n",
            "3   35  Female\n",
            "   Salary  Experience\n",
            "0   50000           3\n",
            "2   45000           2\n",
            "4   70000          10\n"
          ]
        }
      ],
      "source": [
        "import pandas as pd\n",
        "# Create a dataframe called \"employee_df\"\n",
        "data = {'Name': ['John', 'Mary', 'Bob', 'Sarah', 'Tom', 'Lisa'], 'Department': ['IT', 'Marketing', 'Sales', 'IT', 'Finance', 'Marketing'], 'Age': [30, 40, 25, 35, 45, 28], 'Gender': ['Male', 'Female', 'Male', 'Female', 'Male', 'Female'], 'Salary': [50000, 60000, 45000, 55000, 70000, 55000], 'Experience': [3, 7, 2, 5, 10, 4]}\n",
        "\n",
        "employee_df = pd.DataFrame(data)\n",
        "print(employee_df)\n",
        "\n",
        "# Use the iloc method to select the first 3 rows of the dataframe\n",
        "first_3_rows = employee_df.iloc[:3]\n",
        "print(first_3_rows)\n",
        "\n",
        "# Use the loc method to select all rows where the Department is \"Marketing\"\n",
        "marketing_rows = employee_df.loc[employee_df['Department'] == 'Marketing']\n",
        "print(marketing_rows)\n",
        "\n",
        "# Use the iloc method to select the Age and Gender columns for the first 4 rows of the dataframe\n",
        "age_gender_rows = employee_df.iloc[:4, [2, 3]]\n",
        "print(age_gender_rows)\n",
        "\n",
        "# Use the loc method to select the Salary and Experience columns for all rows where the Gender is \"Male\"\n",
        "male_salary_experience = employee_df.loc[employee_df['Gender'] == 'Male', ['Salary', 'Experience']]\n",
        "print(male_salary_experience)"
      ]
    }
  ]
}