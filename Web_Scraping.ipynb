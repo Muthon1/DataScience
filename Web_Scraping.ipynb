{
  "nbformat": 4,
  "nbformat_minor": 0,
  "metadata": {
    "colab": {
      "provenance": [],
      "authorship_tag": "ABX9TyOlNO06Vhwmy0jW9qX/tnX9",
      "include_colab_link": true
    },
    "kernelspec": {
      "name": "python3",
      "display_name": "Python 3"
    },
    "language_info": {
      "name": "python"
    }
  },
  "cells": [
    {
      "cell_type": "markdown",
      "metadata": {
        "id": "view-in-github",
        "colab_type": "text"
      },
      "source": [
        "<a href=\"https://colab.research.google.com/github/Muthon1/DataScience/blob/main/Web_Scraping.ipynb\" target=\"_parent\"><img src=\"https://colab.research.google.com/assets/colab-badge.svg\" alt=\"Open In Colab\"/></a>"
      ]
    },
    {
      "cell_type": "code",
      "execution_count": 12,
      "metadata": {
        "id": "FYecrXY36jfZ"
      },
      "outputs": [],
      "source": [
        "import requests\n",
        "from bs4 import BeautifulSoup\n",
        "import pandas as pd\n",
        "\n",
        "# send request to wikipedia page\n",
        "url ='https://en.wikipedia.org/wiki/Climate_change_in_Kenya'\n",
        "response = requests.get(url)"
      ]
    },
    {
      "cell_type": "code",
      "source": [
        "# Get and parse html content\n",
        "soup = BeautifulSoup(response.content, 'html.parser')\n",
        "\n",
        "# Extract article title\n",
        "article_title = soup.find('h1').text.strip()\n",
        "print(article_title)"
      ],
      "metadata": {
        "colab": {
          "base_uri": "https://localhost:8080/"
        },
        "id": "0k5U_a5iZNyS",
        "outputId": "6369f4b3-45c1-4c45-f493-346c9b0b61d4"
      },
      "execution_count": 4,
      "outputs": [
        {
          "output_type": "stream",
          "name": "stdout",
          "text": [
            "Climate change in Kenya\n"
          ]
        }
      ]
    },
    {
      "cell_type": "code",
      "source": [
        "# Extract article text for each paragraph with their respective headings\n",
        "# Map those headings to their respective paragraphs in the dictionary\n",
        "paragraphs = soup.find_all('p')\n",
        "#initialize lists to store headings\n",
        "article_text = {}\n"
      ],
      "metadata": {
        "id": "7R5RXIXJaGwv"
      },
      "execution_count": 10,
      "outputs": []
    },
    {
      "cell_type": "code",
      "source": [
        "# collect every link that redirects to another Wikipedia page\n",
        "def extract_wikipedia_links(soup):\n",
        "    links = []\n",
        "    for link in soup.find_all('a'):\n",
        "        href = link.get('href')\n",
        "        if href and href.startswith('/wiki/'):\n",
        "            links.append(href)\n",
        "    return links"
      ],
      "metadata": {
        "id": "v85SEPS1dib1"
      },
      "execution_count": 13,
      "outputs": []
    },
    {
      "cell_type": "code",
      "source": [
        "# Wrap all the previous functions into a single function that takes as parameters a Wikipedia link\n",
        "def scrape_wikipedia_page(url):\n",
        "    response = requests.get(url)\n",
        "    soup = BeautifulSoup(response.content, 'html.parser')\n",
        "    article_title = soup.find('h1').text.strip()\n",
        "    paragraphs = soup.find_all('p')\n",
        "    article_text = {}\n",
        "    for paragraph in paragraphs:\n",
        "        heading = paragraph.find_previous('h2')\n",
        "        if heading:\n",
        "            heading_text = heading.text.strip()\n",
        "            article_text[heading_text] = paragraph.text.strip()\n",
        "    return article_title, article_text\n"
      ],
      "metadata": {
        "id": "Ezi8b6TlfwCg"
      },
      "execution_count": 17,
      "outputs": []
    },
    {
      "cell_type": "code",
      "source": [
        "# Test the last function on a Wikipedia page of your choice\n",
        "url = 'https://en.wikipedia.org/wiki/Climate_change_in_Kenya'\n",
        "article_title, article_text = scrape_wikipedia_page(url)\n",
        "print(article_title)\n",
        "print(article_text)"
      ],
      "metadata": {
        "colab": {
          "base_uri": "https://localhost:8080/"
        },
        "id": "34ZERZEFgySe",
        "outputId": "50d8ee65-fb35-497d-a766-971291cac7d5"
      },
      "execution_count": 18,
      "outputs": [
        {
          "output_type": "stream",
          "name": "stdout",
          "text": [
            "Climate change in Kenya\n",
            "{'Contents': 'Hot and dry conditions in Arid and Semi-Arid Lands (ASALs) make droughts or flooding brought on by extreme weather changes even more dangerous. Coastal communities are already experiencing sea level rise and associated challenges such as saltwater intrusion.[4] Lake Victoria, Lake Turkana and other lakes have significantly increased in size between 2010 and 2020[8] flooding lakeside communities.[9] All these factors impact at-risk populations like marginalized communities, women and the youth.[6]', 'Greenhouse gas emissions': 'Human activities increases the strength of greenhouse effect which contributes to climate change. Most likely is carbon dioxide from burning fossil fuels: coal, oil, and natural gas.', 'Impact on the natural environment': 'This reduces both the ecosystem services the forests provide, including by diminishing wood yield and quality, and the biodiversity they support.  Climate change may impede the recovery of these forests. It adversely affects forest regenerative capacity, limiting tree growth and survival, as well as increasing pest and pathogen range. There is also an increased risk and severity of forest fires as temperatures increase and droughts increase in length.[32]:\\u200a16\\u200a Other affected habitats are coral reefs and mangroves, whose ecosystem services include protection from storm surges, providing opportunities for eco-tourism, and sustaining fisheries. Both are directly affected by increasing temperatures and rising sea levels.[18]:\\u200a3', 'Impact on people': 'Among people aged 65 and over, heat stress-related mortality is expected to increase from 2 deaths per 100,000 per year in 1990 to 45 per 100,000 by 2080.[18]:\\u200a4\\u200a[47]:\\u200a4\\u200a Under a low-emissions scenario, this may be limited to just 7 deaths per 100,000 in 2080. Under a high emission scenario, climate change is expected to exacerbate diarrhea deaths, causing around 9% of such deaths for children under 15 by 2030, and 13% of such deaths by 2050. Malnutrition may rise by up to 20% by 2050. In 2009, it was recorded in Kenya that the prevalence of stunting in children, underweight children and wasting in children under age 5 was 35.2%, 16.4% and 7.0%, respectively.[47]:\\u200a4', 'Mitigation and adaptation': 'In 2022 President Ruto said: \"Wind turbines and solar panels are quick to construct and can generate and deliver power far more quickly and easily than a new oil rig, and with much less harm to our fragile climate.\"[54]', 'Society and culture': 'The Arid and Semi Arid areas host 38% of the population, and produce 12% of GDP.[55][32] Poverty rates in northern ASALs remains above 80%, despite overall decreasing national poverty rates.[18]'}\n"
          ]
        }
      ]
    }
  ]
}