{
  "nbformat": 4,
  "nbformat_minor": 0,
  "metadata": {
    "colab": {
      "provenance": [],
      "mount_file_id": "1mil_q_Yo2whGWs9YI6CWs9k3Ok9SsoQI",
      "authorship_tag": "ABX9TyMTg4UPzz5JdOmaGe9NB684",
      "include_colab_link": true
    },
    "kernelspec": {
      "name": "python3",
      "display_name": "Python 3"
    },
    "language_info": {
      "name": "python"
    }
  },
  "cells": [
    {
      "cell_type": "markdown",
      "metadata": {
        "id": "view-in-github",
        "colab_type": "text"
      },
      "source": [
        "<a href=\"https://colab.research.google.com/github/Muthon1/DataScience/blob/main/API_to_Pandas_Dataframe_checkpoint.ipynb\" target=\"_parent\"><img src=\"https://colab.research.google.com/assets/colab-badge.svg\" alt=\"Open In Colab\"/></a>"
      ]
    },
    {
      "cell_type": "code",
      "execution_count": 1,
      "metadata": {
        "colab": {
          "base_uri": "https://localhost:8080/"
        },
        "id": "UdhBHeDYvASw",
        "outputId": "50016b8f-e690-42b8-cd94-ef46ad31dee5"
      },
      "outputs": [
        {
          "output_type": "stream",
          "name": "stdout",
          "text": [
            "Requirement already satisfied: requests in /usr/local/lib/python3.10/dist-packages (2.32.3)\n",
            "Requirement already satisfied: charset-normalizer<4,>=2 in /usr/local/lib/python3.10/dist-packages (from requests) (3.4.0)\n",
            "Requirement already satisfied: idna<4,>=2.5 in /usr/local/lib/python3.10/dist-packages (from requests) (3.10)\n",
            "Requirement already satisfied: urllib3<3,>=1.21.1 in /usr/local/lib/python3.10/dist-packages (from requests) (2.2.3)\n",
            "Requirement already satisfied: certifi>=2017.4.17 in /usr/local/lib/python3.10/dist-packages (from requests) (2024.12.14)\n"
          ]
        }
      ],
      "source": [
        "!pip install requests"
      ]
    },
    {
      "cell_type": "code",
      "source": [
        "import requests"
      ],
      "metadata": {
        "id": "Pa58Qn8USwdB"
      },
      "execution_count": 1,
      "outputs": []
    },
    {
      "cell_type": "code",
      "source": [
        "#Storing API key\n",
        "api_key = 'Kq8XNyop57yyyUzRKYhgNZtImzKQ2g97kFmpCI6u'"
      ],
      "metadata": {
        "id": "JDt6f8wAToQM"
      },
      "execution_count": 2,
      "outputs": []
    },
    {
      "cell_type": "code",
      "source": [
        "# Get the Astronomy picture of the day and then display the image on your notebook\n",
        "apod_url = f\"https://api.nasa.gov/planetary/apod?api_key={api_key}\"\n",
        "response = requests.get(apod_url)\n",
        "\n",
        "# Check if the request was successful\n",
        "if response.status_code == 200:\n",
        "    apod_data = response.json()\n",
        "    # Display the image URL and title of the APOD\n",
        "    print(\"Title:\", apod_data['title'])\n",
        "    print(\"Image URL:\", apod_data['url'])\n",
        "else:\n",
        "    print(\"Error fetching the Astronomy Picture of the Day\")\n"
      ],
      "metadata": {
        "colab": {
          "base_uri": "https://localhost:8080/"
        },
        "id": "mm9QqoVpUgTA",
        "outputId": "5b91e811-1783-416f-98bb-2b56c60fbf3b"
      },
      "execution_count": 3,
      "outputs": [
        {
          "output_type": "stream",
          "name": "stdout",
          "text": [
            "Title: M27: The Dumbbell Nebula\n",
            "Image URL: https://apod.nasa.gov/apod/image/2412/M27_Stobie_960.jpg\n"
          ]
        }
      ]
    },
    {
      "cell_type": "code",
      "source": [
        "from IPython.display import Image, display\n",
        "\n",
        "# Get the image URL from the APOD data\n",
        "image_url = apod_data['url']\n",
        "\n",
        "# Display the image\n",
        "display(Image(url=image_url))\n"
      ],
      "metadata": {
        "colab": {
          "base_uri": "https://localhost:8080/",
          "height": 748
        },
        "id": "B_44FVABXT0D",
        "outputId": "4f70cabc-44aa-4739-e9d5-85290dbd5855"
      },
      "execution_count": 4,
      "outputs": [
        {
          "output_type": "display_data",
          "data": {
            "text/html": [
              "<img src=\"https://apod.nasa.gov/apod/image/2412/M27_Stobie_960.jpg\"/>"
            ],
            "text/plain": [
              "<IPython.core.display.Image object>"
            ]
          },
          "metadata": {}
        }
      ]
    },
    {
      "cell_type": "code",
      "source": [
        "# list the provided API endpoints\n",
        "# Fetch asteroid data\n",
        "asteroids_url = f\"https://api.nasa.gov/neo/rest/v1/feed?api_key={api_key}\"\n",
        "asteroids_response = requests.get(asteroids_url)\n",
        "\n",
        "# Check if the request was successful\n",
        "if asteroids_response.status_code == 200:\n",
        "    asteroids_data = asteroids_response.json()\n",
        "    # Extract asteroid details\n",
        "    asteroids_list = asteroids_data['near_earth_objects']\n",
        "else:\n",
        "    print(\"Error fetching Asteroids data\")\n"
      ],
      "metadata": {
        "id": "-F6_Q9GrXjKb"
      },
      "execution_count": 5,
      "outputs": []
    },
    {
      "cell_type": "code",
      "source": [
        "import pandas as pd\n",
        "\n",
        "# Extract asteroid data from the response\n",
        "asteroid_details = []\n",
        "for date in asteroids_list:\n",
        "    for asteroid in asteroids_list[date]:\n",
        "        asteroid_data = {\n",
        "            'Asteroid ID': asteroid['id'],\n",
        "            'Asteroid name': asteroid['name'],\n",
        "            'Minimal estimated diameter (km)': asteroid['estimated_diameter']['kilometers']['estimated_diameter_min'],\n",
        "            'Absolute magnitude': asteroid['absolute_magnitude_h'],\n",
        "            'Relative velocity (km/s)': asteroid['close_approach_data'][0]['relative_velocity']['kilometers_per_second']\n",
        "        }\n",
        "        asteroid_details.append(asteroid_data)\n",
        "\n",
        "# Create a DataFrame\n",
        "df_asteroids = pd.DataFrame(asteroid_details)\n",
        "\n",
        "# Clean the DataFrame\n",
        "df_asteroids['Minimal estimated diameter (km)'] = pd.to_numeric(df_asteroids['Minimal estimated diameter (km)'], errors='coerce')\n",
        "df_asteroids['Absolute magnitude'] = pd.to_numeric(df_asteroids['Absolute magnitude'], errors='coerce')\n",
        "df_asteroids['Relative velocity (km/s)'] = pd.to_numeric(df_asteroids['Relative velocity (km/s)'], errors='coerce')\n",
        "\n",
        "# Display the cleaned DataFrame\n",
        "df_asteroids.head()\n"
      ],
      "metadata": {
        "colab": {
          "base_uri": "https://localhost:8080/",
          "height": 206
        },
        "id": "qtsDI_4jY56i",
        "outputId": "431be09e-d17e-45b6-b9fe-9315fbce88b2"
      },
      "execution_count": 6,
      "outputs": [
        {
          "output_type": "execute_result",
          "data": {
            "text/plain": [
              "  Asteroid ID       Asteroid name  Minimal estimated diameter (km)  \\\n",
              "0     2162120  162120 (1998 SH36)                         0.196135   \n",
              "1     3704144        (2015 AC246)                         0.055533   \n",
              "2     3781585          (2017 SK2)                         0.060891   \n",
              "3     3785681          (2017 TU1)                         0.015295   \n",
              "4     3843671          (2019 QY4)                         0.008027   \n",
              "\n",
              "   Absolute magnitude  Relative velocity (km/s)  \n",
              "0               20.66                 21.386470  \n",
              "1               23.40                  6.062099  \n",
              "2               23.20                  5.353627  \n",
              "3               26.20                 14.811661  \n",
              "4               27.60                 18.204980  "
            ],
            "text/html": [
              "\n",
              "  <div id=\"df-c9426781-affe-4392-bb97-b6c5fb8f4a16\" class=\"colab-df-container\">\n",
              "    <div>\n",
              "<style scoped>\n",
              "    .dataframe tbody tr th:only-of-type {\n",
              "        vertical-align: middle;\n",
              "    }\n",
              "\n",
              "    .dataframe tbody tr th {\n",
              "        vertical-align: top;\n",
              "    }\n",
              "\n",
              "    .dataframe thead th {\n",
              "        text-align: right;\n",
              "    }\n",
              "</style>\n",
              "<table border=\"1\" class=\"dataframe\">\n",
              "  <thead>\n",
              "    <tr style=\"text-align: right;\">\n",
              "      <th></th>\n",
              "      <th>Asteroid ID</th>\n",
              "      <th>Asteroid name</th>\n",
              "      <th>Minimal estimated diameter (km)</th>\n",
              "      <th>Absolute magnitude</th>\n",
              "      <th>Relative velocity (km/s)</th>\n",
              "    </tr>\n",
              "  </thead>\n",
              "  <tbody>\n",
              "    <tr>\n",
              "      <th>0</th>\n",
              "      <td>2162120</td>\n",
              "      <td>162120 (1998 SH36)</td>\n",
              "      <td>0.196135</td>\n",
              "      <td>20.66</td>\n",
              "      <td>21.386470</td>\n",
              "    </tr>\n",
              "    <tr>\n",
              "      <th>1</th>\n",
              "      <td>3704144</td>\n",
              "      <td>(2015 AC246)</td>\n",
              "      <td>0.055533</td>\n",
              "      <td>23.40</td>\n",
              "      <td>6.062099</td>\n",
              "    </tr>\n",
              "    <tr>\n",
              "      <th>2</th>\n",
              "      <td>3781585</td>\n",
              "      <td>(2017 SK2)</td>\n",
              "      <td>0.060891</td>\n",
              "      <td>23.20</td>\n",
              "      <td>5.353627</td>\n",
              "    </tr>\n",
              "    <tr>\n",
              "      <th>3</th>\n",
              "      <td>3785681</td>\n",
              "      <td>(2017 TU1)</td>\n",
              "      <td>0.015295</td>\n",
              "      <td>26.20</td>\n",
              "      <td>14.811661</td>\n",
              "    </tr>\n",
              "    <tr>\n",
              "      <th>4</th>\n",
              "      <td>3843671</td>\n",
              "      <td>(2019 QY4)</td>\n",
              "      <td>0.008027</td>\n",
              "      <td>27.60</td>\n",
              "      <td>18.204980</td>\n",
              "    </tr>\n",
              "  </tbody>\n",
              "</table>\n",
              "</div>\n",
              "    <div class=\"colab-df-buttons\">\n",
              "\n",
              "  <div class=\"colab-df-container\">\n",
              "    <button class=\"colab-df-convert\" onclick=\"convertToInteractive('df-c9426781-affe-4392-bb97-b6c5fb8f4a16')\"\n",
              "            title=\"Convert this dataframe to an interactive table.\"\n",
              "            style=\"display:none;\">\n",
              "\n",
              "  <svg xmlns=\"http://www.w3.org/2000/svg\" height=\"24px\" viewBox=\"0 -960 960 960\">\n",
              "    <path d=\"M120-120v-720h720v720H120Zm60-500h600v-160H180v160Zm220 220h160v-160H400v160Zm0 220h160v-160H400v160ZM180-400h160v-160H180v160Zm440 0h160v-160H620v160ZM180-180h160v-160H180v160Zm440 0h160v-160H620v160Z\"/>\n",
              "  </svg>\n",
              "    </button>\n",
              "\n",
              "  <style>\n",
              "    .colab-df-container {\n",
              "      display:flex;\n",
              "      gap: 12px;\n",
              "    }\n",
              "\n",
              "    .colab-df-convert {\n",
              "      background-color: #E8F0FE;\n",
              "      border: none;\n",
              "      border-radius: 50%;\n",
              "      cursor: pointer;\n",
              "      display: none;\n",
              "      fill: #1967D2;\n",
              "      height: 32px;\n",
              "      padding: 0 0 0 0;\n",
              "      width: 32px;\n",
              "    }\n",
              "\n",
              "    .colab-df-convert:hover {\n",
              "      background-color: #E2EBFA;\n",
              "      box-shadow: 0px 1px 2px rgba(60, 64, 67, 0.3), 0px 1px 3px 1px rgba(60, 64, 67, 0.15);\n",
              "      fill: #174EA6;\n",
              "    }\n",
              "\n",
              "    .colab-df-buttons div {\n",
              "      margin-bottom: 4px;\n",
              "    }\n",
              "\n",
              "    [theme=dark] .colab-df-convert {\n",
              "      background-color: #3B4455;\n",
              "      fill: #D2E3FC;\n",
              "    }\n",
              "\n",
              "    [theme=dark] .colab-df-convert:hover {\n",
              "      background-color: #434B5C;\n",
              "      box-shadow: 0px 1px 3px 1px rgba(0, 0, 0, 0.15);\n",
              "      filter: drop-shadow(0px 1px 2px rgba(0, 0, 0, 0.3));\n",
              "      fill: #FFFFFF;\n",
              "    }\n",
              "  </style>\n",
              "\n",
              "    <script>\n",
              "      const buttonEl =\n",
              "        document.querySelector('#df-c9426781-affe-4392-bb97-b6c5fb8f4a16 button.colab-df-convert');\n",
              "      buttonEl.style.display =\n",
              "        google.colab.kernel.accessAllowed ? 'block' : 'none';\n",
              "\n",
              "      async function convertToInteractive(key) {\n",
              "        const element = document.querySelector('#df-c9426781-affe-4392-bb97-b6c5fb8f4a16');\n",
              "        const dataTable =\n",
              "          await google.colab.kernel.invokeFunction('convertToInteractive',\n",
              "                                                    [key], {});\n",
              "        if (!dataTable) return;\n",
              "\n",
              "        const docLinkHtml = 'Like what you see? Visit the ' +\n",
              "          '<a target=\"_blank\" href=https://colab.research.google.com/notebooks/data_table.ipynb>data table notebook</a>'\n",
              "          + ' to learn more about interactive tables.';\n",
              "        element.innerHTML = '';\n",
              "        dataTable['output_type'] = 'display_data';\n",
              "        await google.colab.output.renderOutput(dataTable, element);\n",
              "        const docLink = document.createElement('div');\n",
              "        docLink.innerHTML = docLinkHtml;\n",
              "        element.appendChild(docLink);\n",
              "      }\n",
              "    </script>\n",
              "  </div>\n",
              "\n",
              "\n",
              "<div id=\"df-72c7763e-7528-413b-963f-28f4509af87b\">\n",
              "  <button class=\"colab-df-quickchart\" onclick=\"quickchart('df-72c7763e-7528-413b-963f-28f4509af87b')\"\n",
              "            title=\"Suggest charts\"\n",
              "            style=\"display:none;\">\n",
              "\n",
              "<svg xmlns=\"http://www.w3.org/2000/svg\" height=\"24px\"viewBox=\"0 0 24 24\"\n",
              "     width=\"24px\">\n",
              "    <g>\n",
              "        <path d=\"M19 3H5c-1.1 0-2 .9-2 2v14c0 1.1.9 2 2 2h14c1.1 0 2-.9 2-2V5c0-1.1-.9-2-2-2zM9 17H7v-7h2v7zm4 0h-2V7h2v10zm4 0h-2v-4h2v4z\"/>\n",
              "    </g>\n",
              "</svg>\n",
              "  </button>\n",
              "\n",
              "<style>\n",
              "  .colab-df-quickchart {\n",
              "      --bg-color: #E8F0FE;\n",
              "      --fill-color: #1967D2;\n",
              "      --hover-bg-color: #E2EBFA;\n",
              "      --hover-fill-color: #174EA6;\n",
              "      --disabled-fill-color: #AAA;\n",
              "      --disabled-bg-color: #DDD;\n",
              "  }\n",
              "\n",
              "  [theme=dark] .colab-df-quickchart {\n",
              "      --bg-color: #3B4455;\n",
              "      --fill-color: #D2E3FC;\n",
              "      --hover-bg-color: #434B5C;\n",
              "      --hover-fill-color: #FFFFFF;\n",
              "      --disabled-bg-color: #3B4455;\n",
              "      --disabled-fill-color: #666;\n",
              "  }\n",
              "\n",
              "  .colab-df-quickchart {\n",
              "    background-color: var(--bg-color);\n",
              "    border: none;\n",
              "    border-radius: 50%;\n",
              "    cursor: pointer;\n",
              "    display: none;\n",
              "    fill: var(--fill-color);\n",
              "    height: 32px;\n",
              "    padding: 0;\n",
              "    width: 32px;\n",
              "  }\n",
              "\n",
              "  .colab-df-quickchart:hover {\n",
              "    background-color: var(--hover-bg-color);\n",
              "    box-shadow: 0 1px 2px rgba(60, 64, 67, 0.3), 0 1px 3px 1px rgba(60, 64, 67, 0.15);\n",
              "    fill: var(--button-hover-fill-color);\n",
              "  }\n",
              "\n",
              "  .colab-df-quickchart-complete:disabled,\n",
              "  .colab-df-quickchart-complete:disabled:hover {\n",
              "    background-color: var(--disabled-bg-color);\n",
              "    fill: var(--disabled-fill-color);\n",
              "    box-shadow: none;\n",
              "  }\n",
              "\n",
              "  .colab-df-spinner {\n",
              "    border: 2px solid var(--fill-color);\n",
              "    border-color: transparent;\n",
              "    border-bottom-color: var(--fill-color);\n",
              "    animation:\n",
              "      spin 1s steps(1) infinite;\n",
              "  }\n",
              "\n",
              "  @keyframes spin {\n",
              "    0% {\n",
              "      border-color: transparent;\n",
              "      border-bottom-color: var(--fill-color);\n",
              "      border-left-color: var(--fill-color);\n",
              "    }\n",
              "    20% {\n",
              "      border-color: transparent;\n",
              "      border-left-color: var(--fill-color);\n",
              "      border-top-color: var(--fill-color);\n",
              "    }\n",
              "    30% {\n",
              "      border-color: transparent;\n",
              "      border-left-color: var(--fill-color);\n",
              "      border-top-color: var(--fill-color);\n",
              "      border-right-color: var(--fill-color);\n",
              "    }\n",
              "    40% {\n",
              "      border-color: transparent;\n",
              "      border-right-color: var(--fill-color);\n",
              "      border-top-color: var(--fill-color);\n",
              "    }\n",
              "    60% {\n",
              "      border-color: transparent;\n",
              "      border-right-color: var(--fill-color);\n",
              "    }\n",
              "    80% {\n",
              "      border-color: transparent;\n",
              "      border-right-color: var(--fill-color);\n",
              "      border-bottom-color: var(--fill-color);\n",
              "    }\n",
              "    90% {\n",
              "      border-color: transparent;\n",
              "      border-bottom-color: var(--fill-color);\n",
              "    }\n",
              "  }\n",
              "</style>\n",
              "\n",
              "  <script>\n",
              "    async function quickchart(key) {\n",
              "      const quickchartButtonEl =\n",
              "        document.querySelector('#' + key + ' button');\n",
              "      quickchartButtonEl.disabled = true;  // To prevent multiple clicks.\n",
              "      quickchartButtonEl.classList.add('colab-df-spinner');\n",
              "      try {\n",
              "        const charts = await google.colab.kernel.invokeFunction(\n",
              "            'suggestCharts', [key], {});\n",
              "      } catch (error) {\n",
              "        console.error('Error during call to suggestCharts:', error);\n",
              "      }\n",
              "      quickchartButtonEl.classList.remove('colab-df-spinner');\n",
              "      quickchartButtonEl.classList.add('colab-df-quickchart-complete');\n",
              "    }\n",
              "    (() => {\n",
              "      let quickchartButtonEl =\n",
              "        document.querySelector('#df-72c7763e-7528-413b-963f-28f4509af87b button');\n",
              "      quickchartButtonEl.style.display =\n",
              "        google.colab.kernel.accessAllowed ? 'block' : 'none';\n",
              "    })();\n",
              "  </script>\n",
              "</div>\n",
              "\n",
              "    </div>\n",
              "  </div>\n"
            ],
            "application/vnd.google.colaboratory.intrinsic+json": {
              "type": "dataframe",
              "variable_name": "df_asteroids",
              "summary": "{\n  \"name\": \"df_asteroids\",\n  \"rows\": 89,\n  \"fields\": [\n    {\n      \"column\": \"Asteroid ID\",\n      \"properties\": {\n        \"dtype\": \"string\",\n        \"num_unique_values\": 89,\n        \"samples\": [\n          \"3879137\",\n          \"3645041\",\n          \"2418849\"\n        ],\n        \"semantic_type\": \"\",\n        \"description\": \"\"\n      }\n    },\n    {\n      \"column\": \"Asteroid name\",\n      \"properties\": {\n        \"dtype\": \"string\",\n        \"num_unique_values\": 89,\n        \"samples\": [\n          \"(2019 TK6)\",\n          \"(2013 NC15)\",\n          \"418849 (2008 WM64)\"\n        ],\n        \"semantic_type\": \"\",\n        \"description\": \"\"\n      }\n    },\n    {\n      \"column\": \"Minimal estimated diameter (km)\",\n      \"properties\": {\n        \"dtype\": \"number\",\n        \"std\": 0.12784228545355725,\n        \"min\": 0.0020349558,\n        \"max\": 0.777239702,\n        \"num_unique_values\": 82,\n        \"samples\": [\n          0.2140695897,\n          0.1961349444,\n          0.0020349558\n        ],\n        \"semantic_type\": \"\",\n        \"description\": \"\"\n      }\n    },\n    {\n      \"column\": \"Absolute magnitude\",\n      \"properties\": {\n        \"dtype\": \"number\",\n        \"std\": 2.554954392029807,\n        \"min\": 17.67,\n        \"max\": 30.58,\n        \"num_unique_values\": 82,\n        \"samples\": [\n          20.47,\n          20.66,\n          30.58\n        ],\n        \"semantic_type\": \"\",\n        \"description\": \"\"\n      }\n    },\n    {\n      \"column\": \"Relative velocity (km/s)\",\n      \"properties\": {\n        \"dtype\": \"number\",\n        \"std\": 7.065320536300862,\n        \"min\": 2.839333716,\n        \"max\": 36.9077294466,\n        \"num_unique_values\": 89,\n        \"samples\": [\n          10.4616436925,\n          12.0604970908,\n          21.6202321253\n        ],\n        \"semantic_type\": \"\",\n        \"description\": \"\"\n      }\n    }\n  ]\n}"
            }
          },
          "metadata": {},
          "execution_count": 6
        }
      ]
    },
    {
      "cell_type": "code",
      "source": [
        "# Export to CSV\n",
        "df_asteroids.to_csv('cleaned_asteroids_data.csv', index=False)\n"
      ],
      "metadata": {
        "id": "igSNbB83bGQP"
      },
      "execution_count": 7,
      "outputs": []
    }
  ]
}