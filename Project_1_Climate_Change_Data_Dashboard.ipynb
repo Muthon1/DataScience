{
  "nbformat": 4,
  "nbformat_minor": 0,
  "metadata": {
    "colab": {
      "provenance": [],
      "authorship_tag": "ABX9TyNfyB128LsD/UL1mYbs9Me+",
      "include_colab_link": true
    },
    "kernelspec": {
      "name": "python3",
      "display_name": "Python 3"
    },
    "language_info": {
      "name": "python"
    }
  },
  "cells": [
    {
      "cell_type": "markdown",
      "metadata": {
        "id": "view-in-github",
        "colab_type": "text"
      },
      "source": [
        "<a href=\"https://colab.research.google.com/github/Muthon1/DataScience/blob/main/Project_1_Climate_Change_Data_Dashboard.ipynb\" target=\"_parent\"><img src=\"https://colab.research.google.com/assets/colab-badge.svg\" alt=\"Open In Colab\"/></a>"
      ]
    },
    {
      "cell_type": "markdown",
      "source": [
        "# Project Scope\n",
        "Goal: Visualize CO₂ emissions, temperature anomalies, and renewable energy trends for selected countries over time.\n",
        "# Features:\n",
        "Interactive line charts for emissions and temperature\n",
        "\n",
        "Dropdown menu to select countries\n",
        "\n",
        "Option to compare multiple metrics\n",
        "\n",
        "Streamlit dashboard layout"
      ],
      "metadata": {
        "id": "GsZ0pu_d4rj2"
      }
    },
    {
      "cell_type": "code",
      "source": [
        "!pip install streamlit\n",
        "import streamlit as st\n",
        "import pandas as pd\n",
        "import plotly.express as px"
      ],
      "metadata": {
        "colab": {
          "base_uri": "https://localhost:8080/"
        },
        "id": "2KdUhs3X5KPS",
        "outputId": "ab5b6cd8-a804-4bc1-8d15-96fc462534e6"
      },
      "execution_count": 1,
      "outputs": [
        {
          "output_type": "stream",
          "name": "stdout",
          "text": [
            "Collecting streamlit\n",
            "  Downloading streamlit-1.44.1-py3-none-any.whl.metadata (8.9 kB)\n",
            "Requirement already satisfied: altair<6,>=4.0 in /usr/local/lib/python3.11/dist-packages (from streamlit) (5.5.0)\n",
            "Requirement already satisfied: blinker<2,>=1.0.0 in /usr/local/lib/python3.11/dist-packages (from streamlit) (1.9.0)\n",
            "Requirement already satisfied: cachetools<6,>=4.0 in /usr/local/lib/python3.11/dist-packages (from streamlit) (5.5.2)\n",
            "Requirement already satisfied: click<9,>=7.0 in /usr/local/lib/python3.11/dist-packages (from streamlit) (8.1.8)\n",
            "Requirement already satisfied: numpy<3,>=1.23 in /usr/local/lib/python3.11/dist-packages (from streamlit) (2.0.2)\n",
            "Requirement already satisfied: packaging<25,>=20 in /usr/local/lib/python3.11/dist-packages (from streamlit) (24.2)\n",
            "Requirement already satisfied: pandas<3,>=1.4.0 in /usr/local/lib/python3.11/dist-packages (from streamlit) (2.2.2)\n",
            "Requirement already satisfied: pillow<12,>=7.1.0 in /usr/local/lib/python3.11/dist-packages (from streamlit) (11.1.0)\n",
            "Requirement already satisfied: protobuf<6,>=3.20 in /usr/local/lib/python3.11/dist-packages (from streamlit) (5.29.4)\n",
            "Requirement already satisfied: pyarrow>=7.0 in /usr/local/lib/python3.11/dist-packages (from streamlit) (18.1.0)\n",
            "Requirement already satisfied: requests<3,>=2.27 in /usr/local/lib/python3.11/dist-packages (from streamlit) (2.32.3)\n",
            "Requirement already satisfied: tenacity<10,>=8.1.0 in /usr/local/lib/python3.11/dist-packages (from streamlit) (9.1.2)\n",
            "Requirement already satisfied: toml<2,>=0.10.1 in /usr/local/lib/python3.11/dist-packages (from streamlit) (0.10.2)\n",
            "Requirement already satisfied: typing-extensions<5,>=4.4.0 in /usr/local/lib/python3.11/dist-packages (from streamlit) (4.13.0)\n",
            "Collecting watchdog<7,>=2.1.5 (from streamlit)\n",
            "  Downloading watchdog-6.0.0-py3-none-manylinux2014_x86_64.whl.metadata (44 kB)\n",
            "\u001b[2K     \u001b[90m━━━━━━━━━━━━━━━━━━━━━━━━━━━━━━━━━━━━━━━━\u001b[0m \u001b[32m44.3/44.3 kB\u001b[0m \u001b[31m1.9 MB/s\u001b[0m eta \u001b[36m0:00:00\u001b[0m\n",
            "\u001b[?25hRequirement already satisfied: gitpython!=3.1.19,<4,>=3.0.7 in /usr/local/lib/python3.11/dist-packages (from streamlit) (3.1.44)\n",
            "Collecting pydeck<1,>=0.8.0b4 (from streamlit)\n",
            "  Downloading pydeck-0.9.1-py2.py3-none-any.whl.metadata (4.1 kB)\n",
            "Requirement already satisfied: tornado<7,>=6.0.3 in /usr/local/lib/python3.11/dist-packages (from streamlit) (6.4.2)\n",
            "Requirement already satisfied: jinja2 in /usr/local/lib/python3.11/dist-packages (from altair<6,>=4.0->streamlit) (3.1.6)\n",
            "Requirement already satisfied: jsonschema>=3.0 in /usr/local/lib/python3.11/dist-packages (from altair<6,>=4.0->streamlit) (4.23.0)\n",
            "Requirement already satisfied: narwhals>=1.14.2 in /usr/local/lib/python3.11/dist-packages (from altair<6,>=4.0->streamlit) (1.33.0)\n",
            "Requirement already satisfied: gitdb<5,>=4.0.1 in /usr/local/lib/python3.11/dist-packages (from gitpython!=3.1.19,<4,>=3.0.7->streamlit) (4.0.12)\n",
            "Requirement already satisfied: python-dateutil>=2.8.2 in /usr/local/lib/python3.11/dist-packages (from pandas<3,>=1.4.0->streamlit) (2.8.2)\n",
            "Requirement already satisfied: pytz>=2020.1 in /usr/local/lib/python3.11/dist-packages (from pandas<3,>=1.4.0->streamlit) (2025.2)\n",
            "Requirement already satisfied: tzdata>=2022.7 in /usr/local/lib/python3.11/dist-packages (from pandas<3,>=1.4.0->streamlit) (2025.2)\n",
            "Requirement already satisfied: charset-normalizer<4,>=2 in /usr/local/lib/python3.11/dist-packages (from requests<3,>=2.27->streamlit) (3.4.1)\n",
            "Requirement already satisfied: idna<4,>=2.5 in /usr/local/lib/python3.11/dist-packages (from requests<3,>=2.27->streamlit) (3.10)\n",
            "Requirement already satisfied: urllib3<3,>=1.21.1 in /usr/local/lib/python3.11/dist-packages (from requests<3,>=2.27->streamlit) (2.3.0)\n",
            "Requirement already satisfied: certifi>=2017.4.17 in /usr/local/lib/python3.11/dist-packages (from requests<3,>=2.27->streamlit) (2025.1.31)\n",
            "Requirement already satisfied: smmap<6,>=3.0.1 in /usr/local/lib/python3.11/dist-packages (from gitdb<5,>=4.0.1->gitpython!=3.1.19,<4,>=3.0.7->streamlit) (5.0.2)\n",
            "Requirement already satisfied: MarkupSafe>=2.0 in /usr/local/lib/python3.11/dist-packages (from jinja2->altair<6,>=4.0->streamlit) (3.0.2)\n",
            "Requirement already satisfied: attrs>=22.2.0 in /usr/local/lib/python3.11/dist-packages (from jsonschema>=3.0->altair<6,>=4.0->streamlit) (25.3.0)\n",
            "Requirement already satisfied: jsonschema-specifications>=2023.03.6 in /usr/local/lib/python3.11/dist-packages (from jsonschema>=3.0->altair<6,>=4.0->streamlit) (2024.10.1)\n",
            "Requirement already satisfied: referencing>=0.28.4 in /usr/local/lib/python3.11/dist-packages (from jsonschema>=3.0->altair<6,>=4.0->streamlit) (0.36.2)\n",
            "Requirement already satisfied: rpds-py>=0.7.1 in /usr/local/lib/python3.11/dist-packages (from jsonschema>=3.0->altair<6,>=4.0->streamlit) (0.24.0)\n",
            "Requirement already satisfied: six>=1.5 in /usr/local/lib/python3.11/dist-packages (from python-dateutil>=2.8.2->pandas<3,>=1.4.0->streamlit) (1.17.0)\n",
            "Downloading streamlit-1.44.1-py3-none-any.whl (9.8 MB)\n",
            "\u001b[2K   \u001b[90m━━━━━━━━━━━━━━━━━━━━━━━━━━━━━━━━━━━━━━━━\u001b[0m \u001b[32m9.8/9.8 MB\u001b[0m \u001b[31m30.4 MB/s\u001b[0m eta \u001b[36m0:00:00\u001b[0m\n",
            "\u001b[?25hDownloading pydeck-0.9.1-py2.py3-none-any.whl (6.9 MB)\n",
            "\u001b[2K   \u001b[90m━━━━━━━━━━━━━━━━━━━━━━━━━━━━━━━━━━━━━━━━\u001b[0m \u001b[32m6.9/6.9 MB\u001b[0m \u001b[31m35.8 MB/s\u001b[0m eta \u001b[36m0:00:00\u001b[0m\n",
            "\u001b[?25hDownloading watchdog-6.0.0-py3-none-manylinux2014_x86_64.whl (79 kB)\n",
            "\u001b[2K   \u001b[90m━━━━━━━━━━━━━━━━━━━━━━━━━━━━━━━━━━━━━━━━\u001b[0m \u001b[32m79.1/79.1 kB\u001b[0m \u001b[31m4.7 MB/s\u001b[0m eta \u001b[36m0:00:00\u001b[0m\n",
            "\u001b[?25hInstalling collected packages: watchdog, pydeck, streamlit\n",
            "Successfully installed pydeck-0.9.1 streamlit-1.44.1 watchdog-6.0.0\n"
          ]
        }
      ]
    },
    {
      "cell_type": "code",
      "source": [
        "# Load OWID CO₂ dataset\n",
        "@st.cache_data\n",
        "def load_data():\n",
        "    url = \"https://raw.githubusercontent.com/owid/co2-data/master/owid-co2-data.csv\"\n",
        "    df = pd.read_csv(url)\n",
        "    return df\n",
        "\n",
        "df = load_data()"
      ],
      "metadata": {
        "colab": {
          "base_uri": "https://localhost:8080/"
        },
        "id": "vX52pIPMpAE-",
        "outputId": "883145ec-54e3-4982-e8e0-8e95b2ce9be2"
      },
      "execution_count": 2,
      "outputs": [
        {
          "output_type": "stream",
          "name": "stderr",
          "text": [
            "2025-04-07 09:46:10.397 WARNING streamlit.runtime.caching.cache_data_api: No runtime found, using MemoryCacheStorageManager\n",
            "2025-04-07 09:46:10.400 WARNING streamlit.runtime.caching.cache_data_api: No runtime found, using MemoryCacheStorageManager\n",
            "2025-04-07 09:46:10.401 WARNING streamlit.runtime.scriptrunner_utils.script_run_context: Thread 'MainThread': missing ScriptRunContext! This warning can be ignored when running in bare mode.\n",
            "2025-04-07 09:46:10.546 \n",
            "  \u001b[33m\u001b[1mWarning:\u001b[0m to view this Streamlit app on a browser, run it with the following\n",
            "  command:\n",
            "\n",
            "    streamlit run /usr/local/lib/python3.11/dist-packages/colab_kernel_launcher.py [ARGUMENTS]\n",
            "2025-04-07 09:46:10.547 Thread 'MainThread': missing ScriptRunContext! This warning can be ignored when running in bare mode.\n",
            "2025-04-07 09:46:10.548 Thread 'MainThread': missing ScriptRunContext! This warning can be ignored when running in bare mode.\n",
            "2025-04-07 09:46:11.053 Thread 'Thread-8': missing ScriptRunContext! This warning can be ignored when running in bare mode.\n",
            "2025-04-07 09:46:11.055 Thread 'Thread-8': missing ScriptRunContext! This warning can be ignored when running in bare mode.\n",
            "2025-04-07 09:46:11.842 Thread 'MainThread': missing ScriptRunContext! This warning can be ignored when running in bare mode.\n",
            "2025-04-07 09:46:11.846 Thread 'MainThread': missing ScriptRunContext! This warning can be ignored when running in bare mode.\n"
          ]
        }
      ]
    },
    {
      "cell_type": "code",
      "source": [
        "df.columns"
      ],
      "metadata": {
        "id": "3Jlcw-k9QyBR",
        "outputId": "37fd03b6-a6e1-446d-c5d9-91780b1ea22c",
        "colab": {
          "base_uri": "https://localhost:8080/"
        }
      },
      "execution_count": 3,
      "outputs": [
        {
          "output_type": "execute_result",
          "data": {
            "text/plain": [
              "Index(['country', 'year', 'iso_code', 'population', 'gdp', 'cement_co2',\n",
              "       'cement_co2_per_capita', 'co2', 'co2_growth_abs', 'co2_growth_prct',\n",
              "       'co2_including_luc', 'co2_including_luc_growth_abs',\n",
              "       'co2_including_luc_growth_prct', 'co2_including_luc_per_capita',\n",
              "       'co2_including_luc_per_gdp', 'co2_including_luc_per_unit_energy',\n",
              "       'co2_per_capita', 'co2_per_gdp', 'co2_per_unit_energy', 'coal_co2',\n",
              "       'coal_co2_per_capita', 'consumption_co2', 'consumption_co2_per_capita',\n",
              "       'consumption_co2_per_gdp', 'cumulative_cement_co2', 'cumulative_co2',\n",
              "       'cumulative_co2_including_luc', 'cumulative_coal_co2',\n",
              "       'cumulative_flaring_co2', 'cumulative_gas_co2', 'cumulative_luc_co2',\n",
              "       'cumulative_oil_co2', 'cumulative_other_co2', 'energy_per_capita',\n",
              "       'energy_per_gdp', 'flaring_co2', 'flaring_co2_per_capita', 'gas_co2',\n",
              "       'gas_co2_per_capita', 'ghg_excluding_lucf_per_capita', 'ghg_per_capita',\n",
              "       'land_use_change_co2', 'land_use_change_co2_per_capita', 'methane',\n",
              "       'methane_per_capita', 'nitrous_oxide', 'nitrous_oxide_per_capita',\n",
              "       'oil_co2', 'oil_co2_per_capita', 'other_co2_per_capita',\n",
              "       'other_industry_co2', 'primary_energy_consumption',\n",
              "       'share_global_cement_co2', 'share_global_co2',\n",
              "       'share_global_co2_including_luc', 'share_global_coal_co2',\n",
              "       'share_global_cumulative_cement_co2', 'share_global_cumulative_co2',\n",
              "       'share_global_cumulative_co2_including_luc',\n",
              "       'share_global_cumulative_coal_co2',\n",
              "       'share_global_cumulative_flaring_co2',\n",
              "       'share_global_cumulative_gas_co2', 'share_global_cumulative_luc_co2',\n",
              "       'share_global_cumulative_oil_co2', 'share_global_cumulative_other_co2',\n",
              "       'share_global_flaring_co2', 'share_global_gas_co2',\n",
              "       'share_global_luc_co2', 'share_global_oil_co2',\n",
              "       'share_global_other_co2', 'share_of_temperature_change_from_ghg',\n",
              "       'temperature_change_from_ch4', 'temperature_change_from_co2',\n",
              "       'temperature_change_from_ghg', 'temperature_change_from_n2o',\n",
              "       'total_ghg', 'total_ghg_excluding_lucf', 'trade_co2',\n",
              "       'trade_co2_share'],\n",
              "      dtype='object')"
            ]
          },
          "metadata": {},
          "execution_count": 3
        }
      ]
    },
    {
      "cell_type": "code",
      "source": [
        "# Keep only relevant columns\n",
        "df = df[['country', 'year', 'co2', 'co2_per_capita', 'cumulative_co2', 'co2_growth_prct', 'co2_growth_abs',\n",
        "         'temperature_change_from_co2', 'temperature_change_from_ghg']]\n",
        "\n",
        "# Sidebar: country selection\n",
        "st.sidebar.title(\"🌍 Climate Change Dashboard\")\n",
        "countries = st.sidebar.multiselect(\"Select countries\", df['country'].unique(),\n",
        "                                   default=['Kenya', 'India', 'United States'])\n",
        "\n",
        "# Filter data for selected countries\n",
        "df = df[df['country'].isin(countries)]\n",
        "df = df.dropna(subset=['year', 'co2'])"
      ],
      "metadata": {
        "colab": {
          "base_uri": "https://localhost:8080/"
        },
        "id": "ezR6HJxppOW5",
        "outputId": "d9178582-0db3-4476-da37-003eea5aa101"
      },
      "execution_count": 5,
      "outputs": [
        {
          "output_type": "stream",
          "name": "stderr",
          "text": [
            "2025-04-07 09:47:48.661 Thread 'MainThread': missing ScriptRunContext! This warning can be ignored when running in bare mode.\n",
            "2025-04-07 09:47:48.663 Thread 'MainThread': missing ScriptRunContext! This warning can be ignored when running in bare mode.\n",
            "2025-04-07 09:47:48.668 Thread 'MainThread': missing ScriptRunContext! This warning can be ignored when running in bare mode.\n",
            "2025-04-07 09:47:48.669 Thread 'MainThread': missing ScriptRunContext! This warning can be ignored when running in bare mode.\n",
            "2025-04-07 09:47:48.672 Thread 'MainThread': missing ScriptRunContext! This warning can be ignored when running in bare mode.\n",
            "2025-04-07 09:47:48.673 Thread 'MainThread': missing ScriptRunContext! This warning can be ignored when running in bare mode.\n",
            "2025-04-07 09:47:48.674 Thread 'MainThread': missing ScriptRunContext! This warning can be ignored when running in bare mode.\n"
          ]
        }
      ]
    },
    {
      "cell_type": "code",
      "source": [
        "# Main dashboard\n",
        "st.title(\"📊 Climate Change Dashboard\")\n",
        "st.markdown(\"Explore CO₂ emissions, renewable energy trends, and temperature change by country.\")\n",
        "\n",
        "# CO₂ Emissions\n",
        "st.header(\"🟠 CO₂ Emissions Over Time\")\n",
        "fig1 = px.line(df, x='year', y='co2', color='country', labels={'co2': 'CO₂ Emissions (million tonnes)'})\n",
        "st.plotly_chart(fig1, use_container_width=True)\n",
        "\n",
        "# CO₂ Per Capita\n",
        "st.header(\"🧍 CO₂ Emissions Per Capita\")\n",
        "fig2 = px.line(df, x='year', y='co2_per_capita', color='country', labels={'co2_per_capita': 'CO₂ per Capita (tonnes)'})\n",
        "st.plotly_chart(fig2, use_container_width=True)\n",
        "\n",
        "# Temperature Change from CO₂\n",
        "st.header(\"🌡️ Temperature Change from CO₂\")\n",
        "fig4 = px.line(df, x='year', y='temperature_change_from_co2', color='country',\n",
        "               labels={'temperature_change_from_co2': 'Temperature Change (°C)'})\n",
        "st.plotly_chart(fig4, use_container_width=True)\n",
        "\n",
        "# Temperature Change from All GHGs\n",
        "st.header(\"🌡️ Total Temperature Change from GHGs\")\n",
        "fig5 = px.line(df, x='year', y='temperature_change_from_ghg', color='country',\n",
        "               labels={'temperature_change_from_ghg': 'Temperature Change (°C)'})\n",
        "st.plotly_chart(fig5, use_container_width=True)"
      ],
      "metadata": {
        "colab": {
          "base_uri": "https://localhost:8080/"
        },
        "id": "_6CzduUpplcB",
        "outputId": "b0208751-a694-4717-df47-d7495db3d286"
      },
      "execution_count": 6,
      "outputs": [
        {
          "output_type": "stream",
          "name": "stderr",
          "text": [
            "2025-04-07 09:52:01.622 Thread 'MainThread': missing ScriptRunContext! This warning can be ignored when running in bare mode.\n",
            "2025-04-07 09:52:01.624 Thread 'MainThread': missing ScriptRunContext! This warning can be ignored when running in bare mode.\n",
            "2025-04-07 09:52:01.625 Thread 'MainThread': missing ScriptRunContext! This warning can be ignored when running in bare mode.\n",
            "2025-04-07 09:52:01.626 Thread 'MainThread': missing ScriptRunContext! This warning can be ignored when running in bare mode.\n",
            "2025-04-07 09:52:01.627 Thread 'MainThread': missing ScriptRunContext! This warning can be ignored when running in bare mode.\n",
            "2025-04-07 09:52:01.628 Thread 'MainThread': missing ScriptRunContext! This warning can be ignored when running in bare mode.\n",
            "2025-04-07 09:52:02.219 Thread 'MainThread': missing ScriptRunContext! This warning can be ignored when running in bare mode.\n",
            "2025-04-07 09:52:02.220 Thread 'MainThread': missing ScriptRunContext! This warning can be ignored when running in bare mode.\n",
            "2025-04-07 09:52:02.222 Thread 'MainThread': missing ScriptRunContext! This warning can be ignored when running in bare mode.\n",
            "2025-04-07 09:52:02.223 Thread 'MainThread': missing ScriptRunContext! This warning can be ignored when running in bare mode.\n",
            "2025-04-07 09:52:02.225 Thread 'MainThread': missing ScriptRunContext! This warning can be ignored when running in bare mode.\n",
            "2025-04-07 09:52:02.226 Thread 'MainThread': missing ScriptRunContext! This warning can be ignored when running in bare mode.\n",
            "2025-04-07 09:52:02.262 Thread 'MainThread': missing ScriptRunContext! This warning can be ignored when running in bare mode.\n",
            "2025-04-07 09:52:02.263 Thread 'MainThread': missing ScriptRunContext! This warning can be ignored when running in bare mode.\n",
            "2025-04-07 09:52:02.265 Thread 'MainThread': missing ScriptRunContext! This warning can be ignored when running in bare mode.\n",
            "2025-04-07 09:52:02.267 Thread 'MainThread': missing ScriptRunContext! This warning can be ignored when running in bare mode.\n",
            "2025-04-07 09:52:02.268 Thread 'MainThread': missing ScriptRunContext! This warning can be ignored when running in bare mode.\n",
            "2025-04-07 09:52:02.269 Thread 'MainThread': missing ScriptRunContext! This warning can be ignored when running in bare mode.\n",
            "2025-04-07 09:52:02.304 Thread 'MainThread': missing ScriptRunContext! This warning can be ignored when running in bare mode.\n",
            "2025-04-07 09:52:02.305 Thread 'MainThread': missing ScriptRunContext! This warning can be ignored when running in bare mode.\n",
            "2025-04-07 09:52:02.306 Thread 'MainThread': missing ScriptRunContext! This warning can be ignored when running in bare mode.\n",
            "2025-04-07 09:52:02.308 Thread 'MainThread': missing ScriptRunContext! This warning can be ignored when running in bare mode.\n",
            "2025-04-07 09:52:02.310 Thread 'MainThread': missing ScriptRunContext! This warning can be ignored when running in bare mode.\n",
            "2025-04-07 09:52:02.311 Thread 'MainThread': missing ScriptRunContext! This warning can be ignored when running in bare mode.\n",
            "2025-04-07 09:52:02.346 Thread 'MainThread': missing ScriptRunContext! This warning can be ignored when running in bare mode.\n",
            "2025-04-07 09:52:02.346 Thread 'MainThread': missing ScriptRunContext! This warning can be ignored when running in bare mode.\n",
            "2025-04-07 09:52:02.349 Thread 'MainThread': missing ScriptRunContext! This warning can be ignored when running in bare mode.\n",
            "2025-04-07 09:52:02.351 Thread 'MainThread': missing ScriptRunContext! This warning can be ignored when running in bare mode.\n"
          ]
        },
        {
          "output_type": "execute_result",
          "data": {
            "text/plain": [
              "DeltaGenerator()"
            ]
          },
          "metadata": {},
          "execution_count": 6
        }
      ]
    },
    {
      "cell_type": "code",
      "source": [
        "!streamlit run climate_dashboard.py"
      ],
      "metadata": {
        "colab": {
          "base_uri": "https://localhost:8080/"
        },
        "id": "vXuYeHCAqg-l",
        "outputId": "2ada1b07-991f-456e-fdac-84d90c7c711c"
      },
      "execution_count": 8,
      "outputs": [
        {
          "output_type": "stream",
          "name": "stdout",
          "text": [
            "Usage: streamlit run [OPTIONS] TARGET [ARGS]...\n",
            "Try 'streamlit run --help' for help.\n",
            "\n",
            "Error: Invalid value: File does not exist: climate_dashboard.py\n"
          ]
        }
      ]
    },
    {
      "cell_type": "code",
      "source": [
        "!pip install -q streamlit pyngrok"
      ],
      "metadata": {
        "id": "W0UxE3GK4cKX"
      },
      "execution_count": 9,
      "outputs": []
    },
    {
      "cell_type": "code",
      "source": [
        "dashboard_code = \"\"\"\n",
        "import streamlit as st\n",
        "import pandas as pd\n",
        "import plotly.express as px\n",
        "\n",
        "@st.cache_data\n",
        "def load_data():\n",
        "    url = \"https://raw.githubusercontent.com/owid/co2-data/master/owid-co2-data.csv\"\n",
        "    df = pd.read_csv(url)\n",
        "    return df\n",
        "\n",
        "df = load_data()\n",
        "\n",
        "df = df[['country', 'year', 'co2', 'co2_per_capita', 'cumulative_co2', 'co2_growth_prct', 'co2_growth_abs',\n",
        "         'temperature_change_from_co2', 'temperature_change_from_ghg']]\n",
        "\n",
        "st.sidebar.title(\"🌍 Climate Change Dashboard\")\n",
        "countries = st.sidebar.multiselect(\"Select countries\", df['country'].unique(),\n",
        "                                   default=['Kenya', 'India', 'United States'])\n",
        "\n",
        "df = df[df['country'].isin(countries)]\n",
        "df = df.dropna(subset=['year', 'co2'])\n",
        "\n",
        "st.title(\"📊 Climate Change Dashboard\")\n",
        "st.markdown(\"Explore CO₂ emissions, renewable energy trends, and temperature change by country.\")\n",
        "\n",
        "st.header(\"🟠 CO₂ Emissions Over Time\")\n",
        "fig1 = px.line(df, x='year', y='co2', color='country', labels={'co2': 'CO₂ Emissions (million tonnes)'})\n",
        "st.plotly_chart(fig1, use_container_width=True)\n",
        "\n",
        "st.header(\"🧍 CO₂ Emissions Per Capita\")\n",
        "fig2 = px.line(df, x='year', y='co2_per_capita', color='country', labels={'co2_per_capita': 'CO₂ per Capita (tonnes)'})\n",
        "st.plotly_chart(fig2, use_container_width=True)\n",
        "\n",
        "st.header(\"🌡️ Temperature Change from CO₂\")\n",
        "fig4 = px.line(df, x='year', y='temperature_change_from_co2', color='country',\n",
        "               labels={'temperature_change_from_co2': 'Temperature Change (°C)'})\n",
        "st.plotly_chart(fig4, use_container_width=True)\n",
        "\n",
        "st.header(\"🌡️ Total Temperature Change from GHGs\")\n",
        "fig5 = px.line(df, x='year', y='temperature_change_from_ghg', color='country',\n",
        "               labels={'temperature_change_from_ghg': 'Temperature Change (°C)'})\n",
        "st.plotly_chart(fig5, use_container_width=True)\n",
        "\"\"\"\n",
        "\n",
        "# Save to a file\n",
        "with open(\"climate_dashboard.py\", \"w\") as f:\n",
        "    f.write(dashboard_code)\n"
      ],
      "metadata": {
        "id": "IcQcFl7j4fo1"
      },
      "execution_count": 10,
      "outputs": []
    },
    {
      "cell_type": "code",
      "source": [
        "# Clean up previous ngrok config\n",
        "!rm -rf /root/.ngrok2\n",
        "!rm -rf /root/.config/ngrok\n",
        "\n",
        "# Reinstall ngrok\n",
        "!pip uninstall -y pyngrok\n",
        "!pip install -q pyngrok\n",
        "\n",
        "#  Add ngrok authtoken\n",
        "from pyngrok import conf, ngrok\n",
        "\n",
        "conf.get_default().auth_token = \"2s1Pw5f1wJsL15HDSYJ8nZsrC6c_2A3sQwbgC6HVFUZFnFgNq\"\n",
        "\n",
        "# Run the tunnel\n",
        "ngrok.kill()\n",
        "public_url = ngrok.connect(8501)\n",
        "print(f\"✅ Your Streamlit app is live at: {public_url}\")\n",
        "\n",
        "# Run the Streamlit app\n",
        "!streamlit run climate_dashboard.py &>/dev/null &\n"
      ],
      "metadata": {
        "colab": {
          "base_uri": "https://localhost:8080/"
        },
        "id": "mFPfLtc16KoV",
        "outputId": "a860456f-25b1-4ce1-eefa-b2728cda459a"
      },
      "execution_count": 18,
      "outputs": [
        {
          "output_type": "stream",
          "name": "stdout",
          "text": [
            "Found existing installation: pyngrok 7.2.3\n",
            "Uninstalling pyngrok-7.2.3:\n",
            "  Successfully uninstalled pyngrok-7.2.3\n",
            "✅ Your Streamlit app is live at: NgrokTunnel: \"https://4cf9-34-125-27-113.ngrok-free.app\" -> \"http://localhost:8501\"\n"
          ]
        }
      ]
    }
  ]
}