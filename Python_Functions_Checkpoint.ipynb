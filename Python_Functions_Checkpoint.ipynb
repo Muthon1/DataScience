{
  "nbformat": 4,
  "nbformat_minor": 0,
  "metadata": {
    "colab": {
      "provenance": [],
      "authorship_tag": "ABX9TyOlranDWDEzvtQpVsS6mdr2",
      "include_colab_link": true
    },
    "kernelspec": {
      "name": "python3",
      "display_name": "Python 3"
    },
    "language_info": {
      "name": "python"
    }
  },
  "cells": [
    {
      "cell_type": "markdown",
      "metadata": {
        "id": "view-in-github",
        "colab_type": "text"
      },
      "source": [
        "<a href=\"https://colab.research.google.com/github/Muthon1/DataScience/blob/main/Python_Functions_Checkpoint.ipynb\" target=\"_parent\"><img src=\"https://colab.research.google.com/assets/colab-badge.svg\" alt=\"Open In Colab\"/></a>"
      ]
    },
    {
      "cell_type": "code",
      "execution_count": null,
      "metadata": {
        "colab": {
          "base_uri": "https://localhost:8080/"
        },
        "id": "foEkJ2ia_usY",
        "outputId": "237f2eb7-6c49-4922-df4e-0d31b847ae7d"
      },
      "outputs": [
        {
          "output_type": "stream",
          "name": "stdout",
          "text": [
            "Welcome to the calculator program!\n",
            "Enter the first number: 45\n",
            "+\n",
            "-\n",
            "*\n",
            "/\n",
            "Pick an operation from the list above: -\n",
            "Enter the second number: 20\n",
            "45.0 - 20.0 = 25.0\n",
            "Type 'y' to continue calculating with 25.0, or 'n' to start a new calculation: n\n",
            "Welcome to the calculator program!\n",
            "Enter the first number: 78\n",
            "+\n",
            "-\n",
            "*\n",
            "/\n",
            "Pick an operation from the list above: /\n",
            "Enter the second number: 4\n",
            "78.0 / 4.0 = 19.5\n",
            "Type 'y' to continue calculating with 19.5, or 'n' to start a new calculation: n\n",
            "Welcome to the calculator program!\n",
            "Enter the first number: 6\n",
            "+\n",
            "-\n",
            "*\n",
            "/\n",
            "Pick an operation from the list above: *\n",
            "Enter the second number: 800\n",
            "6.0 * 800.0 = 4800.0\n",
            "Type 'y' to continue calculating with 4800.0, or 'n' to start a new calculation: y\n",
            "+\n",
            "-\n",
            "*\n",
            "/\n"
          ]
        }
      ],
      "source": [
        "# Create four basic mathematical functions: 'add', 'subtract', 'multiply', and 'divide' that take in two numbers and return the result of the operation.\n",
        "\n",
        "def add(n1, n2):\n",
        "    return n1 + n2\n",
        "\n",
        "def subtract(n1, n2):\n",
        "    return n1 - n2\n",
        "\n",
        "def multiply(n1, n2):\n",
        "    return n1 * n2\n",
        "\n",
        "def divide(n1, n2):\n",
        "    if n2 != 0:\n",
        "        return n1 / n2\n",
        "    else:\n",
        "        return \"Error: Division by zero is undefined.\"\n",
        "\n",
        "# Dictionary to map operation symbols to functions\n",
        "operations = {\n",
        "    \"+\": add,\n",
        "    \"-\": subtract,\n",
        "    \"*\": multiply,\n",
        "    \"/\": divide\n",
        "}\n",
        "\n",
        "# Create a function 'calculator' that prompts the user to input the first number.\n",
        "def calculator():\n",
        "    print(\"Welcome to the calculator program!\")\n",
        "\n",
        "    # Input the first number\n",
        "    num1 = float(input(\"Enter the first number: \"))\n",
        "\n",
        "\n",
        "    should_continue = True\n",
        "\n",
        "    while should_continue:\n",
        "        # Use a for loop to print the available operation symbols\n",
        "        for symbol in operations:\n",
        "            print(symbol)\n",
        "\n",
        "        # prompt the user to select an operation symbol\n",
        "        operation_symbol = input(\"Pick an operation from the list above: \")\n",
        "\n",
        "        # Prompt the user to input the second number\n",
        "        num2 = float(input(\"Enter the second number: \"))\n",
        "\n",
        "        # Retrieve the function based on the operation symbol\n",
        "        calculation_function = operations.get(operation_symbol)\n",
        "\n",
        "        if calculation_function:\n",
        "            # Perform the calculation\n",
        "            answer = calculation_function(num1, num2)\n",
        "\n",
        "            # Print the result\n",
        "            print(f\"{num1} {operation_symbol} {num2} = {answer}\")\n",
        "\n",
        "            # Ask if the user wants to continue with the result\n",
        "            user_choice = input(f\"Type 'y' to continue calculating with {answer}, or 'n' to start a new calculation: \").lower()\n",
        "\n",
        "            if user_choice == 'y':\n",
        "                num1 = answer  # Continue with the result\n",
        "            else:\n",
        "                should_continue = False\n",
        "                calculator()  # Start a new calculation\n",
        "        else:\n",
        "            print(\"Invalid operation. Please try again.\")\n",
        "\n",
        "# Run the calculator\n",
        "calculator()\n",
        "\n",
        "\n"
      ]
    }
  ]
}