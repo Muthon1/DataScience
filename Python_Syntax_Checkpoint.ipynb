{
  "nbformat": 4,
  "nbformat_minor": 0,
  "metadata": {
    "colab": {
      "provenance": [],
      "authorship_tag": "ABX9TyOHTYwSErwXFIoCVRGPBMCf",
      "include_colab_link": true
    },
    "kernelspec": {
      "name": "python3",
      "display_name": "Python 3"
    },
    "language_info": {
      "name": "python"
    }
  },
  "cells": [
    {
      "cell_type": "markdown",
      "metadata": {
        "id": "view-in-github",
        "colab_type": "text"
      },
      "source": [
        "<a href=\"https://colab.research.google.com/github/Muthon1/DataScience/blob/main/Python_Syntax_Checkpoint.ipynb\" target=\"_parent\"><img src=\"https://colab.research.google.com/assets/colab-badge.svg\" alt=\"Open In Colab\"/></a>"
      ]
    },
    {
      "cell_type": "code",
      "source": [
        "print ('Welcome to Python Pizza Deliveries')\n",
        "Size = input (\"What size do you want? (S, M, L): \").upper()\n",
        "Add_Pepperoni = input (\"Would you like pepperoni? (Y or N): \").upper()\n",
        "Extra_cheese = input (\"Would you like extra cheese? (Y or N): \").upper()\n",
        "Bill = 0\n",
        "# Calculate the price based on pizza size\n",
        "if Size == 'S':\n",
        "    Bill += 15\n",
        "elif Size == 'M':\n",
        "    Bill += 20\n",
        "elif Size == 'L':\n",
        "    Bill += 25\n",
        "# Add pepperoni cost\n",
        "if Add_Pepperoni == 'Y':\n",
        "    if Size == 'S':\n",
        "        Bill += 2\n",
        "    else:  # For M and L sizes\n",
        "        Bill += 3\n",
        "# Add extra cheese cost\n",
        "if Extra_cheese == 'Y':\n",
        "    Bill += 1\n",
        "# Display the final bill\n",
        "print (f\"Your final Bill is: ${Bill}\")"
      ],
      "metadata": {
        "colab": {
          "base_uri": "https://localhost:8080/"
        },
        "id": "xStfRQSH8Xp7",
        "outputId": "6333718c-2ae6-4198-f6eb-4a0da9b7b37c"
      },
      "execution_count": 7,
      "outputs": [
        {
          "output_type": "stream",
          "name": "stdout",
          "text": [
            "Welcome to Python Pizza Deliveries\n",
            "What size do you want? (S, M, L): L\n",
            "Would you like pepperoni? (Y or N): Y\n",
            "Would you like extra cheese? (Y or N): Y\n",
            "Your final Bill is: $29\n"
          ]
        }
      ]
    }
  ]
}