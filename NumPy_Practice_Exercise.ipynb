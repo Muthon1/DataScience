{
  "nbformat": 4,
  "nbformat_minor": 0,
  "metadata": {
    "colab": {
      "provenance": [],
      "authorship_tag": "ABX9TyMB6/c8xw1lTevTbLkNh1kY",
      "include_colab_link": true
    },
    "kernelspec": {
      "name": "python3",
      "display_name": "Python 3"
    },
    "language_info": {
      "name": "python"
    }
  },
  "cells": [
    {
      "cell_type": "markdown",
      "metadata": {
        "id": "view-in-github",
        "colab_type": "text"
      },
      "source": [
        "<a href=\"https://colab.research.google.com/github/Muthon1/DataScience/blob/main/NumPy_Practice_Exercise.ipynb\" target=\"_parent\"><img src=\"https://colab.research.google.com/assets/colab-badge.svg\" alt=\"Open In Colab\"/></a>"
      ]
    },
    {
      "cell_type": "code",
      "execution_count": 3,
      "metadata": {
        "colab": {
          "base_uri": "https://localhost:8080/"
        },
        "id": "YI9VvgyXT16r",
        "outputId": "aaa5ffab-1220-4d72-fec0-a295f61b1933"
      },
      "outputs": [
        {
          "output_type": "stream",
          "name": "stdout",
          "text": [
            "[0 1 2 3 4 5 6 7 8 9]\n",
            "[[1 2 3]\n",
            " [4 5 6]\n",
            " [7 8 9]]\n"
          ]
        }
      ],
      "source": [
        "import numpy as np\n",
        "# Create a 1D NumPy array with values from 0 to 9.\n",
        "array = np.array([0, 1, 2, 3, 4, 5, 6, 7, 8, 9])\n",
        "print(array)\n",
        "# Create a 2D NumPy array with values from 1 to 9.\n",
        "array_2D = np.array([[1,2,3],[4,5,6],[7,8,9]])\n",
        "print(array_2D)\n",
        "\n"
      ]
    },
    {
      "cell_type": "code",
      "source": [
        "# Array Indexing and Slicing\n",
        "# Access the 5th element of the 1D array created earlier.\n",
        "index_fifth_number = array[5]\n",
        "print(index_fifth_number)\n",
        "# Access the element at row 2, column 3 of the 3x3 array\n",
        "second_row = array_2D[1,:3]\n",
        "print(second_row)\n",
        "# Slice the 1D array to extract values from index 3 to 7\n",
        "slice_array = array[3:8]\n",
        "print(slice_array)\n",
        "# Slice the 3x3 array to extract the second row\n",
        "slice_array_2D = array_2D[1,:]\n",
        "print(slice_array_2D)"
      ],
      "metadata": {
        "colab": {
          "base_uri": "https://localhost:8080/"
        },
        "id": "UmnaZaWuV8Bo",
        "outputId": "ef82d013-8fa1-4d71-dffc-b3c14b401812"
      },
      "execution_count": 12,
      "outputs": [
        {
          "output_type": "stream",
          "name": "stdout",
          "text": [
            "5\n",
            "[4 5 6]\n",
            "[3 4 5 6 7]\n",
            "[4 5 6]\n"
          ]
        }
      ]
    },
    {
      "cell_type": "code",
      "source": [
        "# Array Operations\n",
        "# Multiply all elements in the 1D array by 2\n",
        "multiply_array = array * 2\n",
        "print(multiply_array)\n",
        "# Add 10 to all elements in the 3x3 array\n",
        "add_array_2D = array_2D + 10\n",
        "print(add_array_2D)\n",
        "# Find the sum of all elements in the 1D array\n",
        "sum_array = np.sum(array)\n",
        "print(sum_array)\n",
        "# Find the mean of all elements in the 3x3 array.\n",
        "mean_array_2D = np.mean(array_2D)\n",
        "print(mean_array_2D)\n"
      ],
      "metadata": {
        "colab": {
          "base_uri": "https://localhost:8080/"
        },
        "id": "xnLugN7LatwN",
        "outputId": "e5a0c75d-a882-4755-9418-bbe435a1abd7"
      },
      "execution_count": 17,
      "outputs": [
        {
          "output_type": "stream",
          "name": "stdout",
          "text": [
            "[ 0  2  4  6  8 10 12 14 16 18]\n",
            "[[11 12 13]\n",
            " [14 15 16]\n",
            " [17 18 19]]\n",
            "45\n",
            "5.0\n"
          ]
        }
      ]
    },
    {
      "cell_type": "code",
      "source": [
        "# Mathematical Functions\n",
        "# Generate a NumPy array of 10 evenly spaced values between 0 and 1\n",
        "array_evenly_spaced = np.linspace(0,1,10)\n",
        "print(array_evenly_spaced)\n",
        "# Create a 1D array with 10 random integers between 1 and 50\n",
        "array_random = np.random.randint(1,50,10)\n",
        "print(array_random)\n",
        "# Find the maximum and minimum values from the random array\n",
        "max_array_random = np.max(array_random)\n",
        "min_array_random = np.min(array_random)\n",
        "print(max_array_random)\n",
        "print(min_array_random)\n",
        "# Calculate the standard deviation of the random array\n",
        "standard_deviation = np.std(array_random)\n",
        "print(standard_deviation)"
      ],
      "metadata": {
        "colab": {
          "base_uri": "https://localhost:8080/"
        },
        "id": "amqMwu9Fdcbw",
        "outputId": "65de0cee-db3d-4a00-bd1e-57f5daab56ae"
      },
      "execution_count": 21,
      "outputs": [
        {
          "output_type": "stream",
          "name": "stdout",
          "text": [
            "[0.         0.11111111 0.22222222 0.33333333 0.44444444 0.55555556\n",
            " 0.66666667 0.77777778 0.88888889 1.        ]\n",
            "[28 16  2 29 41 12 21  1  1  7]\n",
            "41\n",
            "1\n",
            "13.059862173851606\n"
          ]
        }
      ]
    },
    {
      "cell_type": "code",
      "source": [
        "# Reshaping Arrays\n",
        "# Reshape the 1D array of random integers into a 2D array (2x5)\n",
        "reshape_array = array_random.reshape(2,5)\n",
        "print(reshape_array)\n",
        "# Transpose the reshaped array\n",
        "transpose_array = np.transpose(reshape_array)\n",
        "print(transpose_array)"
      ],
      "metadata": {
        "colab": {
          "base_uri": "https://localhost:8080/"
        },
        "id": "MxUvCLX3glZi",
        "outputId": "7072c223-f48e-4be7-f325-452136ca9edc"
      },
      "execution_count": 23,
      "outputs": [
        {
          "output_type": "stream",
          "name": "stdout",
          "text": [
            "[[28 16  2 29 41]\n",
            " [12 21  1  1  7]]\n",
            "[[28 12]\n",
            " [16 21]\n",
            " [ 2  1]\n",
            " [29  1]\n",
            " [41  7]]\n"
          ]
        }
      ]
    },
    {
      "cell_type": "code",
      "source": [
        "# Logical Operations\n",
        "# Create a boolean mask where elements in the 1D array of random integers are greater than 25.\n",
        "boolean_mask = array_random > 25\n",
        "print(boolean_mask)\n",
        "# Use this mask to filter the elements in the array that are greater than 25\n",
        "filter_array = array_random[boolean_mask]\n",
        "print(filter_array)"
      ],
      "metadata": {
        "colab": {
          "base_uri": "https://localhost:8080/"
        },
        "id": "v3GPetF8kWNK",
        "outputId": "d65f9891-549e-4dd1-e90c-a2f7fa1182e0"
      },
      "execution_count": 25,
      "outputs": [
        {
          "output_type": "stream",
          "name": "stdout",
          "text": [
            "[ True False False  True  True False False False False False]\n",
            "[28 29 41]\n"
          ]
        }
      ]
    },
    {
      "cell_type": "code",
      "source": [
        "# Bonus Challenge\n",
        "# Create a 4x4 identity matrix using NumPy\n",
        "import numpy as np\n",
        "identity_matrix = np.identity(4)\n",
        "print(identity_matrix)\n",
        "# Create a diagonal matrix with values 1, 2, 3, 4 along its diagonal\n",
        "diagonal_matrix = np.diag([1,2,3,4])\n",
        "print(diagonal_matrix)"
      ],
      "metadata": {
        "colab": {
          "base_uri": "https://localhost:8080/"
        },
        "id": "HFFO851qlweE",
        "outputId": "6a534801-52ff-4f62-e7c3-1139f0996115"
      },
      "execution_count": 28,
      "outputs": [
        {
          "output_type": "stream",
          "name": "stdout",
          "text": [
            "[[1. 0. 0. 0.]\n",
            " [0. 1. 0. 0.]\n",
            " [0. 0. 1. 0.]\n",
            " [0. 0. 0. 1.]]\n",
            "[[1 0 0 0]\n",
            " [0 2 0 0]\n",
            " [0 0 3 0]\n",
            " [0 0 0 4]]\n"
          ]
        }
      ]
    }
  ]
}