{
  "cells": [
    {
      "cell_type": "markdown",
      "metadata": {
        "id": "view-in-github",
        "colab_type": "text"
      },
      "source": [
        "<a href=\"https://colab.research.google.com/github/Muthon1/DataScience/blob/main/Speech_recognition_checkpoint.ipynb\" target=\"_parent\"><img src=\"https://colab.research.google.com/assets/colab-badge.svg\" alt=\"Open In Colab\"/></a>"
      ]
    },
    {
      "cell_type": "code",
      "execution_count": 1,
      "metadata": {
        "colab": {
          "base_uri": "https://localhost:8080/"
        },
        "id": "kGpXOKUc9rts",
        "outputId": "8c0e3179-7441-4f2f-ffe7-366842fc8ffa"
      },
      "outputs": [
        {
          "output_type": "stream",
          "name": "stdout",
          "text": [
            "Collecting SpeechRecognition\n",
            "  Downloading SpeechRecognition-3.14.1-py3-none-any.whl.metadata (31 kB)\n",
            "Requirement already satisfied: typing-extensions in /usr/local/lib/python3.11/dist-packages (from SpeechRecognition) (4.12.2)\n",
            "Downloading SpeechRecognition-3.14.1-py3-none-any.whl (32.9 MB)\n",
            "\u001b[2K   \u001b[90m━━━━━━━━━━━━━━━━━━━━━━━━━━━━━━━━━━━━━━━━\u001b[0m \u001b[32m32.9/32.9 MB\u001b[0m \u001b[31m17.4 MB/s\u001b[0m eta \u001b[36m0:00:00\u001b[0m\n",
            "\u001b[?25hInstalling collected packages: SpeechRecognition\n",
            "Successfully installed SpeechRecognition-3.14.1\n"
          ]
        }
      ],
      "source": [
        "!pip install SpeechRecognition"
      ]
    },
    {
      "cell_type": "code",
      "execution_count": 2,
      "metadata": {
        "colab": {
          "base_uri": "https://localhost:8080/"
        },
        "id": "j9mhZ1uH9fW7",
        "outputId": "b64042f2-230e-45ef-be03-e18b3b00fb2f"
      },
      "outputs": [
        {
          "name": "stdout",
          "output_type": "stream",
          "text": [
            "Choose speech recognition API:\n",
            "1. Google Speech Recognition\n",
            "2. Microsoft Azure\n",
            "3. IBM Watson\n",
            "4. Offline Recognizer\n",
            "Enter your choice (1-4): 1\n"
          ]
        }
      ],
      "source": [
        "import speech_recognition as sr\n",
        "\n",
        "# Adding option to choose API\n",
        "def choose_recognizer():\n",
        "    print(\"Choose speech recognition API:\")\n",
        "    print(\"1. Google Speech Recognition\")\n",
        "    print(\"2. Microsoft Azure\")\n",
        "    print(\"3. IBM Watson\")\n",
        "    print(\"4. Offline Recognizer\")\n",
        "\n",
        "    choice = input(\"Enter your choice (1-4): \")\n",
        "\n",
        "    if choice == '1':\n",
        "        return sr.Recognizer()  # Google Speech Recognition (default)\n",
        "    elif choice == '2':\n",
        "        # Set up Azure recognizer\n",
        "        return sr.Recognizer()  # Placeholder, will require API key & setup\n",
        "    elif choice == '3':\n",
        "        # Set up IBM Watson recognizer\n",
        "        return sr.Recognizer()  # Placeholder, will require API key & setup\n",
        "    elif choice == '4':\n",
        "        # Set up offline recognizer\n",
        "        return sr.Recognizer()  # Placeholder for offline recognition logic\n",
        "    else:\n",
        "        print(\"Invalid choice, using default Google Speech Recognition.\")\n",
        "        return sr.Recognizer()\n",
        "\n",
        "recognizer = choose_recognizer()\n"
      ]
    },
    {
      "cell_type": "code",
      "execution_count": 3,
      "metadata": {
        "id": "shpmVRxvAgac"
      },
      "outputs": [],
      "source": [
        "def choose_audio_source():\n",
        "    print(\"Choose audio source:\")\n",
        "    print(\"1. Microphone\")\n",
        "    print(\"2. Audio file\")\n",
        "\n",
        "    choice = input(\"Enter your choice (1-2): \")\n",
        "\n",
        "    if choice == '1':\n",
        "        with sr.Microphone() as source:\n",
        "            print(\"Speak now...\")\n",
        "            audio = recognizer.listen(source)\n",
        "        return audio\n",
        "    elif choice == '2':\n",
        "        audio_file = input(\"Enter the path to your audio file: \")\n",
        "        with sr.AudioFile(audio_file) as source:\n",
        "            audio = recognizer.record(source)\n",
        "        return audio\n",
        "    else:\n",
        "        print(\"Invalid choice. Please enter 1 or 2.\")\n",
        "        return None"
      ]
    },
    {
      "cell_type": "code",
      "execution_count": 4,
      "metadata": {
        "id": "lNiKKsYt94Bw"
      },
      "outputs": [],
      "source": [
        "# Improve the error handling in the transcribe_speech() function\n",
        "\n",
        "def transcribe_speech(recognizer, audio, language='en-US'):\n",
        "    try:\n",
        "        print(\"Recognizing...\")\n",
        "        text = recognizer.recognize_google(audio, language=language)\n",
        "        print(\"Transcription: \", text)\n",
        "        return text\n",
        "    except sr.UnknownValueError:\n",
        "        print(\"Error: Could not understand audio.\")\n",
        "    except sr.RequestError as e:\n",
        "        print(f\"Error: Could not request results from the speech recognition service; {e}\")\n",
        "    except Exception as e:\n",
        "        print(f\"An unexpected error occurred: {e}\")\n"
      ]
    },
    {
      "cell_type": "code",
      "execution_count": 5,
      "metadata": {
        "colab": {
          "base_uri": "https://localhost:8080/"
        },
        "id": "2cCrjC9YCq3-",
        "outputId": "bdd29d23-86b2-4537-d33d-197d7cadeb24"
      },
      "outputs": [
        {
          "output_type": "stream",
          "name": "stdout",
          "text": [
            "Reading package lists... Done\n",
            "Building dependency tree... Done\n",
            "Reading state information... Done\n",
            "The following additional packages will be installed:\n",
            "  libportaudio2 libportaudiocpp0\n",
            "Suggested packages:\n",
            "  portaudio19-doc\n",
            "The following NEW packages will be installed:\n",
            "  libportaudio2 libportaudiocpp0 portaudio19-dev\n",
            "0 upgraded, 3 newly installed, 0 to remove and 49 not upgraded.\n",
            "Need to get 188 kB of archives.\n",
            "After this operation, 927 kB of additional disk space will be used.\n",
            "Get:1 http://archive.ubuntu.com/ubuntu jammy/universe amd64 libportaudio2 amd64 19.6.0-1.1 [65.3 kB]\n",
            "Get:2 http://archive.ubuntu.com/ubuntu jammy/universe amd64 libportaudiocpp0 amd64 19.6.0-1.1 [16.1 kB]\n",
            "Get:3 http://archive.ubuntu.com/ubuntu jammy/universe amd64 portaudio19-dev amd64 19.6.0-1.1 [106 kB]\n",
            "Fetched 188 kB in 0s (1,776 kB/s)\n",
            "debconf: unable to initialize frontend: Dialog\n",
            "debconf: (No usable dialog-like program is installed, so the dialog based frontend cannot be used. at /usr/share/perl5/Debconf/FrontEnd/Dialog.pm line 78, <> line 3.)\n",
            "debconf: falling back to frontend: Readline\n",
            "debconf: unable to initialize frontend: Readline\n",
            "debconf: (This frontend requires a controlling tty.)\n",
            "debconf: falling back to frontend: Teletype\n",
            "dpkg-preconfigure: unable to re-open stdin: \n",
            "Selecting previously unselected package libportaudio2:amd64.\n",
            "(Reading database ... 124574 files and directories currently installed.)\n",
            "Preparing to unpack .../libportaudio2_19.6.0-1.1_amd64.deb ...\n",
            "Unpacking libportaudio2:amd64 (19.6.0-1.1) ...\n",
            "Selecting previously unselected package libportaudiocpp0:amd64.\n",
            "Preparing to unpack .../libportaudiocpp0_19.6.0-1.1_amd64.deb ...\n",
            "Unpacking libportaudiocpp0:amd64 (19.6.0-1.1) ...\n",
            "Selecting previously unselected package portaudio19-dev:amd64.\n",
            "Preparing to unpack .../portaudio19-dev_19.6.0-1.1_amd64.deb ...\n",
            "Unpacking portaudio19-dev:amd64 (19.6.0-1.1) ...\n",
            "Setting up libportaudio2:amd64 (19.6.0-1.1) ...\n",
            "Setting up libportaudiocpp0:amd64 (19.6.0-1.1) ...\n",
            "Setting up portaudio19-dev:amd64 (19.6.0-1.1) ...\n",
            "Processing triggers for libc-bin (2.35-0ubuntu3.4) ...\n",
            "/sbin/ldconfig.real: /usr/local/lib/libtbbbind.so.3 is not a symbolic link\n",
            "\n",
            "/sbin/ldconfig.real: /usr/local/lib/libtbb.so.12 is not a symbolic link\n",
            "\n",
            "/sbin/ldconfig.real: /usr/local/lib/libtcm.so.1 is not a symbolic link\n",
            "\n",
            "/sbin/ldconfig.real: /usr/local/lib/libtbbbind_2_0.so.3 is not a symbolic link\n",
            "\n",
            "/sbin/ldconfig.real: /usr/local/lib/libumf.so.0 is not a symbolic link\n",
            "\n",
            "/sbin/ldconfig.real: /usr/local/lib/libtbbbind_2_5.so.3 is not a symbolic link\n",
            "\n",
            "/sbin/ldconfig.real: /usr/local/lib/libtbbmalloc.so.2 is not a symbolic link\n",
            "\n",
            "/sbin/ldconfig.real: /usr/local/lib/libhwloc.so.15 is not a symbolic link\n",
            "\n",
            "/sbin/ldconfig.real: /usr/local/lib/libur_adapter_level_zero.so.0 is not a symbolic link\n",
            "\n",
            "/sbin/ldconfig.real: /usr/local/lib/libur_loader.so.0 is not a symbolic link\n",
            "\n",
            "/sbin/ldconfig.real: /usr/local/lib/libur_adapter_opencl.so.0 is not a symbolic link\n",
            "\n",
            "/sbin/ldconfig.real: /usr/local/lib/libtcm_debug.so.1 is not a symbolic link\n",
            "\n",
            "/sbin/ldconfig.real: /usr/local/lib/libtbbmalloc_proxy.so.2 is not a symbolic link\n",
            "\n"
          ]
        }
      ],
      "source": [
        "!sudo apt-get install portaudio19-dev"
      ]
    },
    {
      "cell_type": "code",
      "execution_count": 6,
      "metadata": {
        "colab": {
          "base_uri": "https://localhost:8080/"
        },
        "id": "Wo0vZzW_CV4x",
        "outputId": "ec0b6ab2-1f47-47b3-c1bf-04f6a5cceaa5"
      },
      "outputs": [
        {
          "output_type": "stream",
          "name": "stdout",
          "text": [
            "Collecting pyaudio\n",
            "  Downloading PyAudio-0.2.14.tar.gz (47 kB)\n",
            "\u001b[?25l     \u001b[90m━━━━━━━━━━━━━━━━━━━━━━━━━━━━━━━━━━━━━━━━\u001b[0m \u001b[32m0.0/47.1 kB\u001b[0m \u001b[31m?\u001b[0m eta \u001b[36m-:--:--\u001b[0m\r\u001b[2K     \u001b[90m━━━━━━━━━━━━━━━━━━━━━━━━━━━━━━━━━━━━━━━━\u001b[0m \u001b[32m47.1/47.1 kB\u001b[0m \u001b[31m3.5 MB/s\u001b[0m eta \u001b[36m0:00:00\u001b[0m\n",
            "\u001b[?25h  Installing build dependencies ... \u001b[?25l\u001b[?25hdone\n",
            "  Getting requirements to build wheel ... \u001b[?25l\u001b[?25hdone\n",
            "  Preparing metadata (pyproject.toml) ... \u001b[?25l\u001b[?25hdone\n",
            "Building wheels for collected packages: pyaudio\n",
            "  Building wheel for pyaudio (pyproject.toml) ... \u001b[?25l\u001b[?25hdone\n",
            "  Created wheel for pyaudio: filename=PyAudio-0.2.14-cp311-cp311-linux_x86_64.whl size=67394 sha256=7581d8b07902a4a9ae971173cee26bee9da32d45bc5e36947dba8c1f2849cb2d\n",
            "  Stored in directory: /root/.cache/pip/wheels/80/b1/c1/67e4ef443de2665d86031d4760508094eab5de37d5d64d9c27\n",
            "Successfully built pyaudio\n",
            "Installing collected packages: pyaudio\n",
            "Successfully installed pyaudio-0.2.14\n"
          ]
        }
      ],
      "source": [
        "!pip install pyaudio"
      ]
    },
    {
      "cell_type": "code",
      "execution_count": 7,
      "metadata": {
        "colab": {
          "base_uri": "https://localhost:8080/"
        },
        "id": "CNaFdW0QC1rY",
        "outputId": "2eb3a587-fa2f-477e-9ef8-87f4d07daf49"
      },
      "outputs": [
        {
          "output_type": "stream",
          "name": "stdout",
          "text": [
            "Collecting pydub\n",
            "  Downloading pydub-0.25.1-py2.py3-none-any.whl.metadata (1.4 kB)\n",
            "Downloading pydub-0.25.1-py2.py3-none-any.whl (32 kB)\n",
            "Installing collected packages: pydub\n",
            "Successfully installed pydub-0.25.1\n"
          ]
        }
      ],
      "source": [
        "!pip install pydub"
      ]
    },
    {
      "cell_type": "code",
      "execution_count": 8,
      "metadata": {
        "colab": {
          "base_uri": "https://localhost:8080/",
          "height": 73
        },
        "id": "SXrROIE0EMZJ",
        "outputId": "e0bb945b-9e0c-49a8-f706-4e3ce19bd0ad"
      },
      "outputs": [
        {
          "output_type": "display_data",
          "data": {
            "text/plain": [
              "<IPython.core.display.HTML object>"
            ],
            "text/html": [
              "\n",
              "     <input type=\"file\" id=\"files-66d4e3b5-5093-496c-aac4-a6c292ad08d2\" name=\"files[]\" multiple disabled\n",
              "        style=\"border:none\" />\n",
              "     <output id=\"result-66d4e3b5-5093-496c-aac4-a6c292ad08d2\">\n",
              "      Upload widget is only available when the cell has been executed in the\n",
              "      current browser session. Please rerun this cell to enable.\n",
              "      </output>\n",
              "      <script>// Copyright 2017 Google LLC\n",
              "//\n",
              "// Licensed under the Apache License, Version 2.0 (the \"License\");\n",
              "// you may not use this file except in compliance with the License.\n",
              "// You may obtain a copy of the License at\n",
              "//\n",
              "//      http://www.apache.org/licenses/LICENSE-2.0\n",
              "//\n",
              "// Unless required by applicable law or agreed to in writing, software\n",
              "// distributed under the License is distributed on an \"AS IS\" BASIS,\n",
              "// WITHOUT WARRANTIES OR CONDITIONS OF ANY KIND, either express or implied.\n",
              "// See the License for the specific language governing permissions and\n",
              "// limitations under the License.\n",
              "\n",
              "/**\n",
              " * @fileoverview Helpers for google.colab Python module.\n",
              " */\n",
              "(function(scope) {\n",
              "function span(text, styleAttributes = {}) {\n",
              "  const element = document.createElement('span');\n",
              "  element.textContent = text;\n",
              "  for (const key of Object.keys(styleAttributes)) {\n",
              "    element.style[key] = styleAttributes[key];\n",
              "  }\n",
              "  return element;\n",
              "}\n",
              "\n",
              "// Max number of bytes which will be uploaded at a time.\n",
              "const MAX_PAYLOAD_SIZE = 100 * 1024;\n",
              "\n",
              "function _uploadFiles(inputId, outputId) {\n",
              "  const steps = uploadFilesStep(inputId, outputId);\n",
              "  const outputElement = document.getElementById(outputId);\n",
              "  // Cache steps on the outputElement to make it available for the next call\n",
              "  // to uploadFilesContinue from Python.\n",
              "  outputElement.steps = steps;\n",
              "\n",
              "  return _uploadFilesContinue(outputId);\n",
              "}\n",
              "\n",
              "// This is roughly an async generator (not supported in the browser yet),\n",
              "// where there are multiple asynchronous steps and the Python side is going\n",
              "// to poll for completion of each step.\n",
              "// This uses a Promise to block the python side on completion of each step,\n",
              "// then passes the result of the previous step as the input to the next step.\n",
              "function _uploadFilesContinue(outputId) {\n",
              "  const outputElement = document.getElementById(outputId);\n",
              "  const steps = outputElement.steps;\n",
              "\n",
              "  const next = steps.next(outputElement.lastPromiseValue);\n",
              "  return Promise.resolve(next.value.promise).then((value) => {\n",
              "    // Cache the last promise value to make it available to the next\n",
              "    // step of the generator.\n",
              "    outputElement.lastPromiseValue = value;\n",
              "    return next.value.response;\n",
              "  });\n",
              "}\n",
              "\n",
              "/**\n",
              " * Generator function which is called between each async step of the upload\n",
              " * process.\n",
              " * @param {string} inputId Element ID of the input file picker element.\n",
              " * @param {string} outputId Element ID of the output display.\n",
              " * @return {!Iterable<!Object>} Iterable of next steps.\n",
              " */\n",
              "function* uploadFilesStep(inputId, outputId) {\n",
              "  const inputElement = document.getElementById(inputId);\n",
              "  inputElement.disabled = false;\n",
              "\n",
              "  const outputElement = document.getElementById(outputId);\n",
              "  outputElement.innerHTML = '';\n",
              "\n",
              "  const pickedPromise = new Promise((resolve) => {\n",
              "    inputElement.addEventListener('change', (e) => {\n",
              "      resolve(e.target.files);\n",
              "    });\n",
              "  });\n",
              "\n",
              "  const cancel = document.createElement('button');\n",
              "  inputElement.parentElement.appendChild(cancel);\n",
              "  cancel.textContent = 'Cancel upload';\n",
              "  const cancelPromise = new Promise((resolve) => {\n",
              "    cancel.onclick = () => {\n",
              "      resolve(null);\n",
              "    };\n",
              "  });\n",
              "\n",
              "  // Wait for the user to pick the files.\n",
              "  const files = yield {\n",
              "    promise: Promise.race([pickedPromise, cancelPromise]),\n",
              "    response: {\n",
              "      action: 'starting',\n",
              "    }\n",
              "  };\n",
              "\n",
              "  cancel.remove();\n",
              "\n",
              "  // Disable the input element since further picks are not allowed.\n",
              "  inputElement.disabled = true;\n",
              "\n",
              "  if (!files) {\n",
              "    return {\n",
              "      response: {\n",
              "        action: 'complete',\n",
              "      }\n",
              "    };\n",
              "  }\n",
              "\n",
              "  for (const file of files) {\n",
              "    const li = document.createElement('li');\n",
              "    li.append(span(file.name, {fontWeight: 'bold'}));\n",
              "    li.append(span(\n",
              "        `(${file.type || 'n/a'}) - ${file.size} bytes, ` +\n",
              "        `last modified: ${\n",
              "            file.lastModifiedDate ? file.lastModifiedDate.toLocaleDateString() :\n",
              "                                    'n/a'} - `));\n",
              "    const percent = span('0% done');\n",
              "    li.appendChild(percent);\n",
              "\n",
              "    outputElement.appendChild(li);\n",
              "\n",
              "    const fileDataPromise = new Promise((resolve) => {\n",
              "      const reader = new FileReader();\n",
              "      reader.onload = (e) => {\n",
              "        resolve(e.target.result);\n",
              "      };\n",
              "      reader.readAsArrayBuffer(file);\n",
              "    });\n",
              "    // Wait for the data to be ready.\n",
              "    let fileData = yield {\n",
              "      promise: fileDataPromise,\n",
              "      response: {\n",
              "        action: 'continue',\n",
              "      }\n",
              "    };\n",
              "\n",
              "    // Use a chunked sending to avoid message size limits. See b/62115660.\n",
              "    let position = 0;\n",
              "    do {\n",
              "      const length = Math.min(fileData.byteLength - position, MAX_PAYLOAD_SIZE);\n",
              "      const chunk = new Uint8Array(fileData, position, length);\n",
              "      position += length;\n",
              "\n",
              "      const base64 = btoa(String.fromCharCode.apply(null, chunk));\n",
              "      yield {\n",
              "        response: {\n",
              "          action: 'append',\n",
              "          file: file.name,\n",
              "          data: base64,\n",
              "        },\n",
              "      };\n",
              "\n",
              "      let percentDone = fileData.byteLength === 0 ?\n",
              "          100 :\n",
              "          Math.round((position / fileData.byteLength) * 100);\n",
              "      percent.textContent = `${percentDone}% done`;\n",
              "\n",
              "    } while (position < fileData.byteLength);\n",
              "  }\n",
              "\n",
              "  // All done.\n",
              "  yield {\n",
              "    response: {\n",
              "      action: 'complete',\n",
              "    }\n",
              "  };\n",
              "}\n",
              "\n",
              "scope.google = scope.google || {};\n",
              "scope.google.colab = scope.google.colab || {};\n",
              "scope.google.colab._files = {\n",
              "  _uploadFiles,\n",
              "  _uploadFilesContinue,\n",
              "};\n",
              "})(self);\n",
              "</script> "
            ]
          },
          "metadata": {}
        },
        {
          "output_type": "stream",
          "name": "stdout",
          "text": [
            "Saving East African Anthem [pPi0V-Kw8ZA].mp3 to East African Anthem [pPi0V-Kw8ZA].mp3\n"
          ]
        }
      ],
      "source": [
        "from google.colab import files\n",
        "uploaded = files.upload()"
      ]
    },
    {
      "cell_type": "code",
      "execution_count": 14,
      "metadata": {
        "id": "1S05wzm4BlqQ"
      },
      "outputs": [],
      "source": [
        "def choose_audio_source():\n",
        "    print(\"Choose audio source:\")\n",
        "    print(\"1. Microphone\")\n",
        "    print(\"2. Audio file\")\n",
        "\n",
        "    choice = input(\"Enter your choice (1-2): \")\n",
        "\n",
        "    if choice == '1':\n",
        "        with sr.Microphone() as source:\n",
        "            print(\"Speak now...\")\n",
        "            audio = recognizer.listen(source)\n",
        "        return audio\n",
        "    elif choice == '2':\n",
        "        audio_file = input(\"Enter the path to your audio file: \")\n",
        "        # Check if the file exists and is a supported format before proceeding\n",
        "        if not audio_file.lower().endswith(('.wav', '.aiff', '.aifc', '.flac')):\n",
        "            print(\"Error: Unsupported audio file format. Please provide a WAV, AIFF, AIFF-C, or FLAC file.\")\n",
        "            return None\n",
        "\n",
        "        try:\n",
        "            with sr.AudioFile(audio_file) as source:\n",
        "                audio = recognizer.record(source)\n",
        "            return audio\n",
        "        except FileNotFoundError:\n",
        "            print(f\"Error: File not found at path: {audio_file}\")\n",
        "            return None\n",
        "        except Exception as e:  # Handle potential audio format or corruption errors\n",
        "            print(f\"Error reading the audio file: {e}\")\n",
        "            return None\n",
        "    else:\n",
        "        print(\"Invalid choice. Please enter 1 or 2.\")\n",
        "        return None"
      ]
    },
    {
      "cell_type": "code",
      "source": [
        "# Check if audio was successfully obtained\n",
        "audio = choose_audio_source() # Call the function to obtain the audio\n",
        "\n",
        "if audio:\n",
        "    language = choose_language()\n",
        "    text = transcribe_speech(recognizer, audio, language=language)\n",
        "else:\n",
        "    print(\"Could not obtain audio input.\")"
      ],
      "metadata": {
        "colab": {
          "base_uri": "https://localhost:8080/"
        },
        "id": "uZLSv7oaU-XK",
        "outputId": "6e8f8426-5537-4263-933d-f173337521a0"
      },
      "execution_count": 16,
      "outputs": [
        {
          "output_type": "stream",
          "name": "stdout",
          "text": [
            "Choose audio source:\n",
            "1. Microphone\n",
            "2. Audio file\n",
            "Enter your choice (1-2): 2\n",
            "Enter the path to your audio file: '/content/East African Anthem [pPi0V-Kw8ZA].mp3'\n",
            "Error: Unsupported audio file format. Please provide a WAV, AIFF, AIFF-C, or FLAC file.\n",
            "Could not obtain audio input.\n"
          ]
        }
      ]
    },
    {
      "cell_type": "code",
      "execution_count": 17,
      "metadata": {
        "id": "ch5jgkeJ-G3z"
      },
      "outputs": [],
      "source": [
        "# Add a feature to allow the user to save the transcribed text to a file\n",
        "\n",
        "def save_transcription_to_file(transcription, filename=\"transcription.txt\"):\n",
        "    try:\n",
        "        with open(filename, 'w') as file:\n",
        "            file.write(transcription)\n",
        "        print(f\"Transcription saved to {filename}\")\n",
        "    except Exception as e:\n",
        "        print(f\"Error saving file: {e}\")\n"
      ]
    },
    {
      "cell_type": "code",
      "execution_count": 18,
      "metadata": {
        "colab": {
          "base_uri": "https://localhost:8080/"
        },
        "id": "a_8-CvDO-lso",
        "outputId": "3a6ff873-9cff-44a4-d378-ebcac1989401"
      },
      "outputs": [
        {
          "output_type": "stream",
          "name": "stdout",
          "text": [
            "Choose language (e.g., 'en-US' for English, 'es-ES' for Spanish, etc.): \n",
            "Enter language code: en-US\n",
            "Recognizing...\n",
            "An unexpected error occurred: ``audio_data`` must be audio data\n"
          ]
        }
      ],
      "source": [
        "# Add a feature to allow the user to choose the language they are speaking in\n",
        "def choose_language():\n",
        "    print(\"Choose language (e.g., 'en-US' for English, 'es-ES' for Spanish, etc.): \")\n",
        "    language = input(\"Enter language code: \")\n",
        "    return language\n",
        "\n",
        "language = choose_language()\n",
        "text = transcribe_speech(recognizer, audio, language=language)\n"
      ]
    },
    {
      "cell_type": "code",
      "execution_count": 19,
      "metadata": {
        "id": "tpykWxpuEA9c"
      },
      "outputs": [],
      "source": [
        "import time\n",
        "\n",
        "class SpeechRecognizerWithPause:\n",
        "    def __init__(self, recognizer):\n",
        "        self.recognizer = recognizer\n",
        "        self.is_paused = False\n",
        "\n",
        "    def start_recognition(self, audio):\n",
        "        try:\n",
        "            while not self.is_paused:\n",
        "                print(\"Listening for speech...\")\n",
        "                time.sleep(1)  # Simulate recognition process.\n",
        "            return self.recognizer.recognize_google(audio)\n",
        "        except Exception as e:\n",
        "            print(f\"Error: {e}\")\n",
        "\n",
        "    def pause(self):\n",
        "        print(\"Pausing recognition...\")\n",
        "        self.is_paused = True\n",
        "\n",
        "    def resume(self):\n",
        "        print(\"Resuming recognition...\")\n",
        "        self.is_paused = False\n"
      ]
    },
    {
      "cell_type": "code",
      "execution_count": 20,
      "metadata": {
        "id": "cyt80Pe-FY22"
      },
      "outputs": [],
      "source": [
        "# Add a feature to allow the user to pause and resume the speech recognition process\n",
        "import time\n",
        "\n",
        "class SpeechRecognizerWithPause:\n",
        "    def __init__(self, recognizer):\n",
        "        self.recognizer = recognizer\n",
        "        self.is_paused = False\n",
        "\n",
        "    def start_recognition(self, audio):\n",
        "        try:\n",
        "            while not self.is_paused:\n",
        "                print(\"Listening for speech...\")\n",
        "                time.sleep(1)  # Simulate recognition process.\n",
        "            return self.recognizer.recognize_google(audio)\n",
        "        except Exception as e:\n",
        "            print(f\"Error: {e}\")\n",
        "\n",
        "    def pause(self):\n",
        "        print(\"Pausing recognition...\")\n",
        "        self.is_paused = True\n",
        "\n",
        "    def resume(self):\n",
        "        print(\"Resuming recognition...\")\n",
        "        self.is_paused = False\n"
      ]
    }
  ],
  "metadata": {
    "colab": {
      "provenance": [],
      "authorship_tag": "ABX9TyMh4SUdUA7DPxaePBuMdXfJ",
      "include_colab_link": true
    },
    "kernelspec": {
      "display_name": "Python 3",
      "name": "python3"
    },
    "language_info": {
      "name": "python"
    }
  },
  "nbformat": 4,
  "nbformat_minor": 0
}