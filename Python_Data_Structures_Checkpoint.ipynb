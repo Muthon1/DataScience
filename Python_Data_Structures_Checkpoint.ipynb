{
  "nbformat": 4,
  "nbformat_minor": 0,
  "metadata": {
    "colab": {
      "provenance": [],
      "authorship_tag": "ABX9TyOTR+GYt9vu7eH6NMICpBvb",
      "include_colab_link": true
    },
    "kernelspec": {
      "name": "python3",
      "display_name": "Python 3"
    },
    "language_info": {
      "name": "python"
    }
  },
  "cells": [
    {
      "cell_type": "markdown",
      "metadata": {
        "id": "view-in-github",
        "colab_type": "text"
      },
      "source": [
        "<a href=\"https://colab.research.google.com/github/Muthon1/DataScience/blob/main/Python_Data_Structures_Checkpoint.ipynb\" target=\"_parent\"><img src=\"https://colab.research.google.com/assets/colab-badge.svg\" alt=\"Open In Colab\"/></a>"
      ]
    },
    {
      "cell_type": "code",
      "source": [
        "# Initialize an empty shopping list and other data structures\n",
        "shopping_list = []\n",
        "shopping_tuple = ()\n",
        "shopping_set = set()\n",
        "shopping_dict = {}\n",
        "\n",
        "# Limit the number of items in the list using range\n",
        "max_items = 5\n",
        "\n",
        "# Menu loop\n",
        "while True:\n",
        "    # Display menu options\n",
        "    print(\"\\nMenu:\")\n",
        "    print(\"1. Add an item\")\n",
        "    print(\"2. Remove an item\")\n",
        "    print(\"3. View items\")\n",
        "    print(\"4. Exit\")\n",
        "\n",
        "    # Get the user's choice\n",
        "    choice = input(\"Please select an option (1-4): \")\n",
        "\n",
        "    # Add an item\n",
        "    if choice == \"1\":\n",
        "        if len(shopping_list) < max_items:\n",
        "            item = input(\"Enter an item to add: \")\n",
        "\n",
        "            # Add to list, set, tuple, and dictionary\n",
        "            shopping_list.append(item)\n",
        "            shopping_tuple = tuple(shopping_list)\n",
        "            shopping_set.add(item)\n",
        "            shopping_dict[item] = f\"Item {len(shopping_dict) + 1}\"\n",
        "\n",
        "            print(f\"'{item}' has been added to your shopping list.\")\n",
        "        else:\n",
        "            print(f\"You can only add up to {max_items} items.\")\n",
        "\n",
        "    # Remove an item\n",
        "    elif choice == \"2\":\n",
        "        item = input(\"Enter an item to remove: \")\n",
        "        if item in shopping_list:\n",
        "            shopping_list.remove(item)\n",
        "            shopping_tuple = tuple(shopping_list)\n",
        "            shopping_set.discard(item)\n",
        "            shopping_dict.pop(item, None)\n",
        "\n",
        "            print(f\"'{item}' has been removed from your shopping list.\")\n",
        "        else:\n",
        "            print(f\"'{item}' not found in the list.\")\n",
        "\n",
        "    # View items\n",
        "    elif choice == \"3\":\n",
        "        print(\"\\nYour shopping list contains:\")\n",
        "        for i, item in enumerate(shopping_list, start=1):\n",
        "            print(f\"{i}. {item}\")\n",
        "\n",
        "        print(\"\\nSet of items:\", shopping_set)\n",
        "        print(\"Tuple of items:\", shopping_tuple)\n",
        "        print(\"Dictionary of items with IDs:\", shopping_dict)\n",
        "\n",
        "    # Exit the loop\n",
        "    elif choice == \"4\":\n",
        "        print(\"Goodbye!\")\n",
        "        break\n",
        "\n",
        "    # Invalid input\n",
        "    else:\n",
        "        print(\"Invalid option. Please select again.\")\n"
      ],
      "metadata": {
        "colab": {
          "base_uri": "https://localhost:8080/"
        },
        "id": "szNI6Ox1XkTp",
        "outputId": "08edd967-2659-4646-ee83-2e96c70ec095"
      },
      "execution_count": 25,
      "outputs": [
        {
          "output_type": "stream",
          "name": "stdout",
          "text": [
            "\n",
            "Menu:\n",
            "1. Add an item\n",
            "2. Remove an item\n",
            "3. View items\n",
            "4. Exit\n",
            "Please select an option (1-4): 1\n",
            "Enter an item to add: Milk, Bread, Tomatoes, Bananas, Barsoap\n",
            "'Milk, Bread, Tomatoes, Bananas, Barsoap' has been added to your shopping list.\n",
            "\n",
            "Menu:\n",
            "1. Add an item\n",
            "2. Remove an item\n",
            "3. View items\n",
            "4. Exit\n",
            "Please select an option (1-4): 2\n",
            "Enter an item to remove: Tomatoes\n",
            "'Tomatoes' not found in the list.\n",
            "\n",
            "Menu:\n",
            "1. Add an item\n",
            "2. Remove an item\n",
            "3. View items\n",
            "4. Exit\n",
            "Please select an option (1-4): 3\n",
            "\n",
            "Your shopping list contains:\n",
            "1. Milk, Bread, Tomatoes, Bananas, Barsoap\n",
            "\n",
            "Set of items: {'Milk, Bread, Tomatoes, Bananas, Barsoap'}\n",
            "Tuple of items: ('Milk, Bread, Tomatoes, Bananas, Barsoap',)\n",
            "Dictionary of items with IDs: {'Milk, Bread, Tomatoes, Bananas, Barsoap': 'Item 1'}\n",
            "\n",
            "Menu:\n",
            "1. Add an item\n",
            "2. Remove an item\n",
            "3. View items\n",
            "4. Exit\n",
            "Please select an option (1-4): 4\n",
            "Goodbye!\n"
          ]
        }
      ]
    }
  ]
}